{
 "cells": [
  {
   "cell_type": "markdown",
   "metadata": {
    "colab_type": "text",
    "id": "51dZwqDNc9x6"
   },
   "source": [
    "# Data Science - Getting Started with Python\n",
    "\n",
    "Following are exercises you should complete. Workflow:\n",
    "\n",
    "1. Complete the exercises! This means fill out the code cells, and run them (shift-enter or click the play button that appears when you're in one of them)\n",
    "2. Take a look at your work, and write comments/add text cells as appropriate to explain\n",
    "3. Upload the notebook to your GitHub repository and submit a link [here](https://docs.google.com/forms/d/e/1FAIpQLScdlw-GN3tHPHxROIulxoPmxXmvK-UmXco3lgjiJ0Ckltn6QA/viewform?usp=sf_link)"
   ]
  },
  {
   "cell_type": "markdown",
   "metadata": {
    "colab_type": "text",
    "id": "I6biutgwdgpb"
   },
   "source": [
    "## Exercise 1 - A bit of Math\n",
    "\n",
    "For these \"word\" problems, use Python to clearly solve them. Your code will \"show your work\" - use good variable names! To show your answers you should write a `print()` statement at the end.\n",
    "\n",
    "### a) It's a gas\n",
    "\n",
    "A taxi driver is calculating their profit over two weeks by adding up the fares they charge and subtracting the cost of gas. The price of gas changes over time - it was `$3.52`/gallon the first week and `$3.57`/gallon this second week. Their car gets 20 miles per gallon.\n",
    "\n",
    "For the first week the driver had a total of 23 passengers with average `$29` fare each, and drove a total of 160 miles. For the second week they had 17 passengers with average `$30` fare each, and drove a total of 220 miles. Assume that for both weeks they purchase all the gas needed during that week (i.e. they refuel every week to maintain a constant level of gas in the tank).\n",
    "\n",
    "Based on the above, answer the following questions:\n",
    "\n",
    "- What is their total profit over both weeks?\n",
    "- During which week was their average (mean) profit per passenger higher?\n"
   ]
  },
  {
   "cell_type": "code",
   "execution_count": 85,
   "metadata": {
    "colab": {},
    "colab_type": "code",
    "id": "CWJeYQW6AoGf"
   },
   "outputs": [
    {
     "name": "stdout",
     "output_type": "stream",
     "text": [
      "Total profit is: $1109.57\n",
      "Average profit per passenger is higher in the first week which is about: $27.78 than second week's average of: $27.69\n"
     ]
    }
   ],
   "source": [
    "#profit = revenue - cost\n",
    "week1_gallon_cost = 3.52\n",
    "week2_gallon_cost = 3.57\n",
    "miles_per_gallon_consump = 20\n",
    "week1_pass_count = 23\n",
    "week2_pass_count = 17\n",
    "week1_ave_fare = 29\n",
    "week2_ave_fare = 30\n",
    "week1_dist = 160\n",
    "week2_dist = 220\n",
    "\n",
    "week1_profit = (week1_ave_fare * week1_pass_count) - ((week1_dist / miles_per_gallon_consump) * week1_gallon_cost)\n",
    "week2_profit = (week2_ave_fare * week2_pass_count) - ((week2_dist / miles_per_gallon_consump) * week2_gallon_cost)\n",
    "profit = week1_profit + week2_profit \n",
    "print('Total profit is: $' + str(profit))\n",
    "\n",
    "average_week1 = week1_profit / week1_pass_count\n",
    "average_week2 = week2_profit / week2_pass_count\n",
    "\n",
    "if average_week1 > average_week2:\n",
    "    print(\"Average profit per passenger is higher in the first week which is about: $\" + str(round(average_week1, 2)) + ' than second week\\'s average of: $' + str(round(average_week2, 2)))\n",
    "elif average_week1 < average_week2:\n",
    "    print(\"Average profit per passenger is higher in the second week which is about: $\" + str(round(average_week2, 2)) + ' than first week\\'s average of: $' + str(round(average_week1, 2)))\n",
    "else:\n",
    "    print(\"Average profit is the same for both weeks, about $\" + str(round(average_week2, 2)) + ' per passenger')"
   ]
  },
  {
   "cell_type": "markdown",
   "metadata": {
    "colab_type": "text",
    "id": "0l4bUPHmR5Ko"
   },
   "source": [
    "### b) Mo' money...\n",
    "\n",
    "A cash drawer contains 160 bills, all 10s and 50s. The total value of the 10s and 50s is $1,760.\n",
    "\n",
    "How many of each type of bill are in the drawer? You can figure this out by trial and error (or by doing algebra with pencil and paper), but try to use loops and conditionals to check a plausible possibilities and stop when you find the correct one."
   ]
  },
  {
   "cell_type": "code",
   "execution_count": 89,
   "metadata": {
    "colab": {},
    "colab_type": "code",
    "id": "Q2Atz_kyR8_6"
   },
   "outputs": [
    {
     "name": "stdout",
     "output_type": "stream",
     "text": [
      "There are 156 ten dollar bills\n",
      "There are 4 fifty dollar bills\n"
     ]
    }
   ],
   "source": [
    "count_10_bills = 160\n",
    "count_50_bills = 0\n",
    "value = count_10_bills * 10 + count_50_bills * 50 \n",
    "\n",
    "while (value != 1760):\n",
    "    count_10_bills = count_10_bills - 1\n",
    "    count_50_bills = count_50_bills + 1\n",
    "    value = count_10_bills * 10 + count_50_bills * 50\n",
    "      \n",
    "print('There are ' + str(count_10_bills) + ' ten dollar bills')\n",
    "print('There are ' + str(count_50_bills) + ' fifty dollar bills')"
   ]
  },
  {
   "cell_type": "markdown",
   "metadata": {
    "colab_type": "text",
    "id": "UCFtX_q9aQlc"
   },
   "source": [
    "## Exercise 2 - Drawing a plot\n",
    "\n",
    "Use NumPy and Matplotlib to draw a scatterplot of uniform random `(x, y)` values all drawn from the `[0, 1]` interval. Helpful documentation:\n",
    "\n",
    "*   https://matplotlib.org/tutorials/index.html\n",
    "*   https://docs.scipy.org/doc/numpy/user/quickstart.html\n",
    "\n",
    "Stretch goal - draw more plots! You can refer to the [Matplotlib gallery](https://matplotlib.org/gallery.html) for inspiration, but don't just reproduce something - try to apply it to your own data.\n",
    "\n",
    "How to get data? There's *many* ways, but a good place to get started is with [sklearn.datasets](http://scikit-learn.org/stable/datasets/index.html):\n",
    "\n",
    "```\n",
    "from sklearn import datasets\n",
    "dir(datasets)\n",
    "```"
   ]
  },
  {
   "cell_type": "code",
   "execution_count": 75,
   "metadata": {
    "colab": {},
    "colab_type": "code",
    "id": "pNEb09gMaltL"
   },
   "outputs": [
    {
     "data": {
      "image/png": "[encoded data removed]",
      "text/plain": [
       "<Figure size 432x288 with 1 Axes>"
      ]
     },
     "metadata": {
      "needs_background": "light"
     },
     "output_type": "display_data"
    }
   ],
   "source": [
    "import matplotlib.pyplot as plt\n",
    "import numpy as np\n",
    "from sklearn.datasets import load_iris\n",
    "iris = load_iris()\n",
    "\n",
    "x = iris['data'][:,0]\n",
    "y = iris['data'][:, 1]\n",
    "z = iris['target']\n",
    "plt.scatter(x, y, c = z)\n",
    "plt.xlabel(iris.feature_names[0])\n",
    "plt.ylabel(iris.feature_names[1])\n",
    "plt.show()"
   ]
  }
 ],
 "metadata": {
  "colab": {
   "collapsed_sections": [],
   "name": "LSDS Intro Assignment 1 - Getting Started with Python.ipynb",
   "provenance": [],
   "version": "0.3.2"
  },
  "kernelspec": {
   "display_name": "Python 2",
   "language": "python",
   "name": "python2"
  },
  "language_info": {
   "codemirror_mode": {
    "name": "ipython",
    "version": 2
   },
   "file_extension": ".py",
   "mimetype": "text/x-python",
   "name": "python",
   "nbconvert_exporter": "python",
   "pygments_lexer": "ipython2",
   "version": "2.7.16"
  }
 },
 "nbformat": 4,
 "nbformat_minor": 1
}
