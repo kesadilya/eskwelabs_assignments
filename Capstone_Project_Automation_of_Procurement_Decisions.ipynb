{
  "nbformat": 4,
  "nbformat_minor": 0,
  "metadata": {
    "colab": {
      "name": "Capstone_Project_Automation_of_Procurement_Decisions.ipynb",
      "version": "0.3.2",
      "provenance": [],
      "collapsed_sections": []
    },
    "language_info": {
      "codemirror_mode": {
        "name": "ipython",
        "version": 2
      },
      "file_extension": ".py",
      "mimetype": "text/x-python",
      "name": "python",
      "nbconvert_exporter": "python",
      "pygments_lexer": "ipython2",
      "version": "2.7.16"
    },
    "kernelspec": {
      "display_name": "Python 2",
      "language": "python",
      "name": "python2"
    }
  },
  "cells": [
    {
      "cell_type": "markdown",
      "metadata": {
        "id": "n0zZHeylWbxZ",
        "colab_type": "text"
      },
      "source": [
        "# Strategizing grocery shopping\n",
        "\n",
        "In shopping for groceries, an individual would usually create a list of items that need to be bought based on the stock level of household items and goods. However, doing the grocery in itself is a tedious job, and so a buyer would need to strategize what to buy first and what items can be grabbed together (as similar items are placed next to each other).\n",
        "\n",
        "In an organization setting, procurement or the process of buying does not really differ much, except that the grocery list expands from a thousand to a million items that need to be bought everyday. Procurement is also not limited to buying goods, but also to setting contracts on service/s to be rendered. With procurement becoming large scale, below is a simplified decision on items that needs to be bought:\n",
        "\n",
        "    1. Withdraw from inventory if item is still available;\n",
        "    2. If there is a binding contract, immediately proceed with the purchase; and\n",
        "    3. Strategize on bundling opportunities\n",
        "    \n",
        "With procurement magnified, efficiency issues also increases. Goods and/or services are bought on a daily basis, in a repetitive manner especially when similar items appear on different requests. Buyers are also pressured to immediately buy, while also negotiating with suppliers to lower down procurement costs.\n",
        "\n",
        "Thus, the aim of this project is to automate procurement decisions that would otherwise be very tedious. This would help in increasing cost savings, and in the efficiency of the overall procurement process. "
      ]
    },
    {
      "cell_type": "markdown",
      "metadata": {
        "id": "4p52jxE0Wbxa",
        "colab_type": "text"
      },
      "source": [
        "# Summary of Results\n",
        "-to be updated-"
      ]
    },
    {
      "cell_type": "markdown",
      "metadata": {
        "id": "Q18JAm9pWbxc",
        "colab_type": "text"
      },
      "source": [
        "# Exploring Existing Data\n",
        "There are three main data sources that are readily available or has a defined data architecture in the company database\n",
        "\n",
        "    1. Historical spend data of 6 years;\n",
        "    2. Dynamic outstanding purchase requests; and\n",
        "    3. Inventory stock level\n",
        "    \n",
        "With these data sources, setup on organization procurement process (what teams handle what items), and average volume of requests would readily be known."
      ]
    },
    {
      "cell_type": "code",
      "metadata": {
        "id": "NgpfKOhwng_2",
        "colab_type": "code",
        "outputId": "e6290c26-1f08-4bfd-8fbe-5b0290d69a38",
        "colab": {
          "base_uri": "https://localhost:8080/",
          "height": 50
        }
      },
      "source": [
        "#Connect to organization team drive and sync to uploaded database file\n",
        "from google.colab import drive\n",
        "drive.mount('/gdrive', force_remount=True)\n",
        "db_path = \"/gdrive/Team Drives/Performance Analytics/data_processed/sap_20190603.db\" #change date to get latest update\n",
        "\n",
        "import pandas as pd\n",
        "import sqlalchemy as sqla\n",
        "\n",
        "eng = sqla.create_engine(\"sqlite:///\" + db_path)\n",
        "\n",
        "with eng.begin() as con:\n",
        "  df_purch = pd.read_sql_query(\"select * from sap_purchase_items\", con)\n",
        "  \n",
        "#Connect to organization team drive and sync to uploaded spend data\n",
        "drive.mount('/gdrive', force_remount=True)\n",
        "csv_path = \"/gdrive/Team Drives/Performance Analytics/report_library/spend_cube_files/2013-20190531 Awarded PO + Contract Data Finaledits v36.csv\"\n",
        "df_spend = pd.read_csv(csv_path, encoding='latin1')"
      ],
      "execution_count": 131,
      "outputs": [
        {
          "output_type": "stream",
          "text": [
            "Mounted at /gdrive\n",
            "Mounted at /gdrive\n"
          ],
          "name": "stdout"
        }
      ]
    },
    {
      "cell_type": "markdown",
      "metadata": {
        "id": "dE522aSeXM9w",
        "colab_type": "text"
      },
      "source": [
        "1. Spend Data Quality - shown below is a snippet of the spend data. The cleaned data contains all the processed purchase request (also called purchase orders) from 2013 - May 2019 with additional calculated fields mainly:\n",
        "\n",
        "    a. Material Hierarchies - based on the material group or the UNSPSC codes;\n",
        "    \n",
        "    b. Spend Type - whether operational, capital or inventory related application expense;\n",
        "    \n",
        "    c. Spend in PHP - other currencies were converted to peso as well\n",
        "      "
      ]
    },
    {
      "cell_type": "code",
      "metadata": {
        "id": "zKnICMxrXQrc",
        "colab_type": "code",
        "outputId": "0b6f5fed-a96f-4870-cc56-b991781128bb",
        "colab": {
          "base_uri": "https://localhost:8080/",
          "height": 702
        }
      },
      "source": [
        "df_spend.head()"
      ],
      "execution_count": 132,
      "outputs": [
        {
          "output_type": "execute_result",
          "data": {
            "text/html": [
              "<div>\n",
              "<style scoped>\n",
              "    .dataframe tbody tr th:only-of-type {\n",
              "        vertical-align: middle;\n",
              "    }\n",
              "\n",
              "    .dataframe tbody tr th {\n",
              "        vertical-align: top;\n",
              "    }\n",
              "\n",
              "    .dataframe thead th {\n",
              "        text-align: right;\n",
              "    }\n",
              "</style>\n",
              "<table border=\"1\" class=\"dataframe\">\n",
              "  <thead>\n",
              "    <tr style=\"text-align: right;\">\n",
              "      <th></th>\n",
              "      <th>Purchasing Document</th>\n",
              "      <th>Item</th>\n",
              "      <th>Document Date</th>\n",
              "      <th>Name of Vendor</th>\n",
              "      <th>Material</th>\n",
              "      <th>Material Group</th>\n",
              "      <th>Short Text</th>\n",
              "      <th>Cleaned Short Text</th>\n",
              "      <th>Order Quantity</th>\n",
              "      <th>Order Unit</th>\n",
              "      <th>Order Unit - Full</th>\n",
              "      <th>Net price</th>\n",
              "      <th>Net Order Value</th>\n",
              "      <th>Order Price Unit</th>\n",
              "      <th>Currency</th>\n",
              "      <th>Plant</th>\n",
              "      <th>Purchasing Group</th>\n",
              "      <th>Outline Agreement</th>\n",
              "      <th>Purchasing Doc. Type</th>\n",
              "      <th>Unique Code</th>\n",
              "      <th>CODE</th>\n",
              "      <th>Vendor Name</th>\n",
              "      <th>Cleaned Vendor Name</th>\n",
              "      <th>Vendor Type</th>\n",
              "      <th>Country</th>\n",
              "      <th>PO Amount in PHP</th>\n",
              "      <th>Buyer Name</th>\n",
              "      <th>BU Processor</th>\n",
              "      <th>Plant Intended</th>\n",
              "      <th>Cleaned Plant Intended</th>\n",
              "      <th>BU Intended</th>\n",
              "      <th>Document Type</th>\n",
              "      <th>Goods / Services</th>\n",
              "      <th>Charged To</th>\n",
              "      <th>Month</th>\n",
              "      <th>Year</th>\n",
              "      <th>Segment</th>\n",
              "      <th>Family</th>\n",
              "      <th>Class</th>\n",
              "      <th>Contract No.2</th>\n",
              "      <th>BCG Level 0</th>\n",
              "      <th>Per</th>\n",
              "      <th>Q Year</th>\n",
              "      <th>M Year</th>\n",
              "      <th>OEM vs NON OEM Tag (Place holder)</th>\n",
              "      <th>Vendor Telephone</th>\n",
              "      <th>Origin country (Logistics)</th>\n",
              "      <th>PR #</th>\n",
              "      <th>PR line item</th>\n",
              "      <th>PR Approve Date</th>\n",
              "      <th>Contract start date2</th>\n",
              "      <th>Contract end date2</th>\n",
              "      <th>Contract amount</th>\n",
              "      <th>Contract currency (Local currency)</th>\n",
              "      <th>Contract type2</th>\n",
              "      <th>Contract execution date2</th>\n",
              "      <th>Buyer</th>\n",
              "      <th>GROUP</th>\n",
              "      <th>Proponent</th>\n",
              "      <th>Contractor's Name2</th>\n",
              "      <th>Title of Contract3</th>\n",
              "      <th>Remarks</th>\n",
              "      <th>Contract amount (PHP)</th>\n",
              "      <th>Column1</th>\n",
              "    </tr>\n",
              "  </thead>\n",
              "  <tbody>\n",
              "    <tr>\n",
              "      <th>0</th>\n",
              "      <td>305417</td>\n",
              "      <td>10</td>\n",
              "      <td>05/17/2013</td>\n",
              "      <td>200059     INTEGRAL INDUSTRIAL MANA</td>\n",
              "      <td>1812.0</td>\n",
              "      <td>31251502</td>\n",
              "      <td>ACTUATOR; HYDRAULIC, FOR 20\" BUTTERFLY V</td>\n",
              "      <td>Actuator; Hydraulic, For 20\" Butterfly V</td>\n",
              "      <td>1.0</td>\n",
              "      <td>ASY</td>\n",
              "      <td>Asembly</td>\n",
              "      <td>54880.50</td>\n",
              "      <td>54880.50</td>\n",
              "      <td>ASY</td>\n",
              "      <td>USD</td>\n",
              "      <td>100H</td>\n",
              "      <td>H10</td>\n",
              "      <td>NaN</td>\n",
              "      <td>MB</td>\n",
              "      <td>305417_10</td>\n",
              "      <td>200059</td>\n",
              "      <td>INTEGRAL INDUSTRIAL MANA</td>\n",
              "      <td>INTEGRAL INDUSTRIAL MANAGEMENT CORP.</td>\n",
              "      <td>Mechanical Supplies</td>\n",
              "      <td>PH</td>\n",
              "      <td>2731347.61</td>\n",
              "      <td>HAW Alcantara</td>\n",
              "      <td>HO</td>\n",
              "      <td>LGBU UPPER MAHIAO POWER WREHSE</td>\n",
              "      <td>Leyte Geothermal Business Unit Upper Mahiao Po...</td>\n",
              "      <td>LGBU</td>\n",
              "      <td>Migration PO</td>\n",
              "      <td>GOODS</td>\n",
              "      <td>OPEX</td>\n",
              "      <td>May</td>\n",
              "      <td>2013</td>\n",
              "      <td>Manufacturing Components and Supplies</td>\n",
              "      <td>Pneumatic and hydraulic and electric control s...</td>\n",
              "      <td>Actuators</td>\n",
              "      <td></td>\n",
              "      <td>FCRS</td>\n",
              "      <td>1</td>\n",
              "      <td>Q2 2013</td>\n",
              "      <td>M5 2013</td>\n",
              "      <td>OEM</td>\n",
              "      <td>(02)3554744</td>\n",
              "      <td>NaN</td>\n",
              "      <td>7e+09</td>\n",
              "      <td>10</td>\n",
              "      <td></td>\n",
              "      <td></td>\n",
              "      <td></td>\n",
              "      <td></td>\n",
              "      <td></td>\n",
              "      <td></td>\n",
              "      <td></td>\n",
              "      <td></td>\n",
              "      <td></td>\n",
              "      <td></td>\n",
              "      <td></td>\n",
              "      <td></td>\n",
              "      <td></td>\n",
              "      <td></td>\n",
              "      <td>NaN</td>\n",
              "    </tr>\n",
              "    <tr>\n",
              "      <th>1</th>\n",
              "      <td>305417</td>\n",
              "      <td>20</td>\n",
              "      <td>05/17/2013</td>\n",
              "      <td>200059     INTEGRAL INDUSTRIAL MANA</td>\n",
              "      <td>1813.0</td>\n",
              "      <td>31251502</td>\n",
              "      <td>ACTUATOR; HYDRAULIC, FOR 8\" BUTTERFLY VA</td>\n",
              "      <td>Actuator; Hydraulic, For 8\" Butterfly Va</td>\n",
              "      <td>1.0</td>\n",
              "      <td>ASY</td>\n",
              "      <td>Asembly</td>\n",
              "      <td>43445.86</td>\n",
              "      <td>43445.86</td>\n",
              "      <td>ASY</td>\n",
              "      <td>USD</td>\n",
              "      <td>100H</td>\n",
              "      <td>H10</td>\n",
              "      <td>NaN</td>\n",
              "      <td>MB</td>\n",
              "      <td>305417_20</td>\n",
              "      <td>200059</td>\n",
              "      <td>INTEGRAL INDUSTRIAL MANA</td>\n",
              "      <td>INTEGRAL INDUSTRIAL MANAGEMENT CORP.</td>\n",
              "      <td>Mechanical Supplies</td>\n",
              "      <td>PH</td>\n",
              "      <td>2162257.01</td>\n",
              "      <td>HAW Alcantara</td>\n",
              "      <td>HO</td>\n",
              "      <td>LGBU UPPER MAHIAO POWER WREHSE</td>\n",
              "      <td>Leyte Geothermal Business Unit Upper Mahiao Po...</td>\n",
              "      <td>LGBU</td>\n",
              "      <td>Migration PO</td>\n",
              "      <td>GOODS</td>\n",
              "      <td>OPEX</td>\n",
              "      <td>May</td>\n",
              "      <td>2013</td>\n",
              "      <td>Connections and adhesives</td>\n",
              "      <td>Pneumatic and hydraulic and electric control s...</td>\n",
              "      <td>Actuators</td>\n",
              "      <td></td>\n",
              "      <td>FCRS</td>\n",
              "      <td>1</td>\n",
              "      <td>Q2 2013</td>\n",
              "      <td>M5 2013</td>\n",
              "      <td>OEM</td>\n",
              "      <td>(02)3554744</td>\n",
              "      <td>NaN</td>\n",
              "      <td>7e+09</td>\n",
              "      <td>20</td>\n",
              "      <td>01/18/2013</td>\n",
              "      <td></td>\n",
              "      <td></td>\n",
              "      <td></td>\n",
              "      <td></td>\n",
              "      <td></td>\n",
              "      <td></td>\n",
              "      <td></td>\n",
              "      <td></td>\n",
              "      <td></td>\n",
              "      <td></td>\n",
              "      <td></td>\n",
              "      <td></td>\n",
              "      <td></td>\n",
              "      <td>NaN</td>\n",
              "    </tr>\n",
              "    <tr>\n",
              "      <th>2</th>\n",
              "      <td>411304261</td>\n",
              "      <td>10</td>\n",
              "      <td>06/13/2013</td>\n",
              "      <td>300019     INDUSTRIAL CONTROLS SYST</td>\n",
              "      <td>55335.0</td>\n",
              "      <td>31251505</td>\n",
              "      <td>KIT;RESOLVER DRIVE &amp; PCB;IQ70F25A;ROTORK</td>\n",
              "      <td>Kit;Resolver Drive &amp; Pcb;Iq70F25A;Rotork</td>\n",
              "      <td>2.0</td>\n",
              "      <td>SET</td>\n",
              "      <td>Set</td>\n",
              "      <td>71312.50</td>\n",
              "      <td>142625.00</td>\n",
              "      <td>SET</td>\n",
              "      <td>PHP</td>\n",
              "      <td>100D</td>\n",
              "      <td>LG4</td>\n",
              "      <td>NaN</td>\n",
              "      <td>MB</td>\n",
              "      <td>411304261_10</td>\n",
              "      <td>300019</td>\n",
              "      <td>INDUSTRIAL CONTROLS SYST</td>\n",
              "      <td>INDUSTRIAL CONTROLS SYSTEMS INCORPORATED</td>\n",
              "      <td>Mechanical Supplies</td>\n",
              "      <td>PH</td>\n",
              "      <td>142625.00</td>\n",
              "      <td>RB Enero</td>\n",
              "      <td>LGBU</td>\n",
              "      <td>LGBU CENTRAL WAREHOUSE</td>\n",
              "      <td>Leyte Geothermal Business Unit Central Warehouse</td>\n",
              "      <td>LGBU</td>\n",
              "      <td>Migration PO</td>\n",
              "      <td>GOODS</td>\n",
              "      <td>OPEX</td>\n",
              "      <td>Jun</td>\n",
              "      <td>2013</td>\n",
              "      <td>Connections and adhesives</td>\n",
              "      <td>Pneumatic and hydraulic and electric control s...</td>\n",
              "      <td>Actuators</td>\n",
              "      <td></td>\n",
              "      <td>Power Plant</td>\n",
              "      <td>1</td>\n",
              "      <td>Q2 2013</td>\n",
              "      <td>M6 2013</td>\n",
              "      <td>OEM</td>\n",
              "      <td>(02)4287456</td>\n",
              "      <td>NaN</td>\n",
              "      <td>0</td>\n",
              "      <td>NaN</td>\n",
              "      <td></td>\n",
              "      <td></td>\n",
              "      <td></td>\n",
              "      <td></td>\n",
              "      <td></td>\n",
              "      <td></td>\n",
              "      <td></td>\n",
              "      <td></td>\n",
              "      <td></td>\n",
              "      <td></td>\n",
              "      <td></td>\n",
              "      <td></td>\n",
              "      <td></td>\n",
              "      <td></td>\n",
              "      <td>NaN</td>\n",
              "    </tr>\n",
              "    <tr>\n",
              "      <th>3</th>\n",
              "      <td>305708</td>\n",
              "      <td>30</td>\n",
              "      <td>06/18/2013</td>\n",
              "      <td>300144     TOSHIBA CORPORATION</td>\n",
              "      <td>56368.0</td>\n",
              "      <td>31251505</td>\n",
              "      <td>KIT;REPAIR;TOSHIBA MSV ACTUATOR</td>\n",
              "      <td>Kit;Repair;Toshiba Msv Actuator</td>\n",
              "      <td>1.0</td>\n",
              "      <td>SET</td>\n",
              "      <td>Set</td>\n",
              "      <td>3320.00</td>\n",
              "      <td>3320.00</td>\n",
              "      <td>SET</td>\n",
              "      <td>USD</td>\n",
              "      <td>100G</td>\n",
              "      <td>H11</td>\n",
              "      <td>NaN</td>\n",
              "      <td>MB</td>\n",
              "      <td>305708_30</td>\n",
              "      <td>300144</td>\n",
              "      <td>TOSHIBA CORPORATION</td>\n",
              "      <td>TOSHIBA CORPORATION</td>\n",
              "      <td>Power Plant Professional Services</td>\n",
              "      <td>JP</td>\n",
              "      <td>165233.08</td>\n",
              "      <td>RR Bongco</td>\n",
              "      <td>HO</td>\n",
              "      <td>LGBU MAHANAGDONG POWER WAREHSE</td>\n",
              "      <td>Leyte Geothermal Business Unit Mahanagdong Pow...</td>\n",
              "      <td>LGBU</td>\n",
              "      <td>Migration PO</td>\n",
              "      <td>GOODS</td>\n",
              "      <td>OPEX</td>\n",
              "      <td>Jun</td>\n",
              "      <td>2013</td>\n",
              "      <td>Connections and adhesives</td>\n",
              "      <td>Pneumatic and hydraulic and electric control s...</td>\n",
              "      <td>Actuators</td>\n",
              "      <td></td>\n",
              "      <td>Power Plant</td>\n",
              "      <td>1</td>\n",
              "      <td>Q2 2013</td>\n",
              "      <td>M6 2013</td>\n",
              "      <td>NON OEM</td>\n",
              "      <td>81334573787</td>\n",
              "      <td>NaN</td>\n",
              "      <td>0</td>\n",
              "      <td>NaN</td>\n",
              "      <td></td>\n",
              "      <td></td>\n",
              "      <td></td>\n",
              "      <td></td>\n",
              "      <td></td>\n",
              "      <td></td>\n",
              "      <td></td>\n",
              "      <td></td>\n",
              "      <td></td>\n",
              "      <td></td>\n",
              "      <td></td>\n",
              "      <td></td>\n",
              "      <td></td>\n",
              "      <td></td>\n",
              "      <td>NaN</td>\n",
              "    </tr>\n",
              "    <tr>\n",
              "      <th>4</th>\n",
              "      <td>305708</td>\n",
              "      <td>40</td>\n",
              "      <td>06/18/2013</td>\n",
              "      <td>300144     TOSHIBA CORPORATION</td>\n",
              "      <td>56369.0</td>\n",
              "      <td>31251505</td>\n",
              "      <td>KIT;REPAIR;36\" CONTROL VALVE ACTUATOR;</td>\n",
              "      <td>Kit;Repair;36\" Control Valve Actuator;</td>\n",
              "      <td>1.0</td>\n",
              "      <td>SET</td>\n",
              "      <td>Set</td>\n",
              "      <td>63980.00</td>\n",
              "      <td>63980.00</td>\n",
              "      <td>SET</td>\n",
              "      <td>USD</td>\n",
              "      <td>100G</td>\n",
              "      <td>H11</td>\n",
              "      <td>NaN</td>\n",
              "      <td>MB</td>\n",
              "      <td>305708_40</td>\n",
              "      <td>300144</td>\n",
              "      <td>TOSHIBA CORPORATION</td>\n",
              "      <td>TOSHIBA CORPORATION</td>\n",
              "      <td>Power Plant Professional Services</td>\n",
              "      <td>JP</td>\n",
              "      <td>3184220.62</td>\n",
              "      <td>RR Bongco</td>\n",
              "      <td>HO</td>\n",
              "      <td>LGBU MAHANAGDONG POWER WAREHSE</td>\n",
              "      <td>Leyte Geothermal Business Unit Mahanagdong Pow...</td>\n",
              "      <td>LGBU</td>\n",
              "      <td>Migration PO</td>\n",
              "      <td>GOODS</td>\n",
              "      <td>OPEX</td>\n",
              "      <td>Jun</td>\n",
              "      <td>2013</td>\n",
              "      <td>Connections and adhesives</td>\n",
              "      <td>Pneumatic and hydraulic and electric control s...</td>\n",
              "      <td>Actuators</td>\n",
              "      <td></td>\n",
              "      <td>Power Plant</td>\n",
              "      <td>1</td>\n",
              "      <td>Q2 2013</td>\n",
              "      <td>M6 2013</td>\n",
              "      <td>NON OEM</td>\n",
              "      <td>81334573787</td>\n",
              "      <td>NaN</td>\n",
              "      <td>0</td>\n",
              "      <td>NaN</td>\n",
              "      <td></td>\n",
              "      <td></td>\n",
              "      <td></td>\n",
              "      <td></td>\n",
              "      <td></td>\n",
              "      <td></td>\n",
              "      <td></td>\n",
              "      <td></td>\n",
              "      <td></td>\n",
              "      <td></td>\n",
              "      <td></td>\n",
              "      <td></td>\n",
              "      <td></td>\n",
              "      <td></td>\n",
              "      <td>NaN</td>\n",
              "    </tr>\n",
              "  </tbody>\n",
              "</table>\n",
              "</div>"
            ],
            "text/plain": [
              "   Purchasing Document  Item  ... Contract amount (PHP) Column1\n",
              "0               305417    10  ...                           NaN\n",
              "1               305417    20  ...                           NaN\n",
              "2            411304261    10  ...                           NaN\n",
              "3               305708    30  ...                           NaN\n",
              "4               305708    40  ...                           NaN\n",
              "\n",
              "[5 rows x 64 columns]"
            ]
          },
          "metadata": {
            "tags": []
          },
          "execution_count": 132
        }
      ]
    },
    {
      "cell_type": "markdown",
      "metadata": {
        "id": "gxNGLYiHYc5I",
        "colab_type": "text"
      },
      "source": [
        "2. Procurement Data Quality - as the data is loaded in the database, merging of data sources, cleaning and additional features were already added. Some notable additional features would include:\n",
        "\n",
        "  a. Category assignment - refers to group a buyer is assigned to\n",
        "  \n",
        "  b. Bins of days outstanding\n",
        "  \n",
        "  c. Goods or services"
      ]
    },
    {
      "cell_type": "markdown",
      "metadata": {
        "id": "BIiRGnRLWbxw",
        "colab_type": "text"
      },
      "source": [
        "#Part I: Outstanding Purchase Requisitions:\n",
        "Shown below is a daily count of all purchase requests that are still outstanding. To be fair, daily average would be at around 3000 line items. The algorithm later on would then work on these outstanding purchases."
      ]
    },
    {
      "cell_type": "code",
      "metadata": {
        "id": "84BRUKbsWbxx",
        "colab_type": "code",
        "outputId": "1400263e-7391-410d-fe35-6401605c0e65",
        "colab": {
          "base_uri": "https://localhost:8080/",
          "height": 34
        }
      },
      "source": [
        "df_out_purch = df_purch.loc[(df_purch['id_pr_item'].notnull()) & (df_purch['status_yesno_pr_outstanding'] == 1), ['dim_po_material_shorttext','id_pr_item', 'dim_buyer_name', 'sla_po_release_target_date', 'dim_storage_loc', 'dim_category', 'time_pr_created', 'dim_bins_age_pr_outstanding', 'dim_goods_services', 'dim_po_material_code']]\n",
        "print(str(len(df_out_purch)) + ' purchase requisitions are still outstanding on June 3, 2019')"
      ],
      "execution_count": 133,
      "outputs": [
        {
          "output_type": "stream",
          "text": [
            "2934 purchase requisitions are still outstanding on June 3, 2019\n"
          ],
          "name": "stdout"
        }
      ]
    },
    {
      "cell_type": "markdown",
      "metadata": {
        "id": "l7kGjfV3B0wA",
        "colab_type": "text"
      },
      "source": [
        "As seen below, a large percentage of PRs remain to be outstanding for more than 90 days, mainly because processing a PR takes a lot of time due to negotiation, refinement of specs, and contracting. The disparity in aging of PRs implies that buyers prioritize more significant outstanding purchases, based on the delivery date.\n"
      ]
    },
    {
      "cell_type": "code",
      "metadata": {
        "id": "OshZt3KAWbx1",
        "colab_type": "code",
        "outputId": "ec9919ff-cf04-45ea-f684-30107bb6d4b5",
        "colab": {
          "base_uri": "https://localhost:8080/",
          "height": 370
        }
      },
      "source": [
        "import pandas as pd\n",
        "import numpy as np\n",
        "from matplotlib import pyplot as plt\n",
        "df_out_purch.groupby('dim_bins_age_pr_outstanding')['dim_bins_age_pr_outstanding'].count().plot.bar()"
      ],
      "execution_count": 134,
      "outputs": [
        {
          "output_type": "execute_result",
          "data": {
            "text/plain": [
              "<matplotlib.axes._subplots.AxesSubplot at 0x7fb59482eb90>"
            ]
          },
          "metadata": {
            "tags": []
          },
          "execution_count": 134
        },
        {
          "output_type": "display_data",
          "data": {
            "image/png": "[encoded data removed]",
            "text/plain": [
              "<Figure size 432x288 with 1 Axes>"
            ]
          },
          "metadata": {
            "tags": []
          }
        }
      ]
    },
    {
      "cell_type": "markdown",
      "metadata": {
        "id": "tV8aimXUTfR5",
        "colab_type": "text"
      },
      "source": [
        "When a purchase request is initiated, the request is routed into the ERP system. A point supply chain person would then assign the request to a category, based on the application of the item. Shown below is a distribution of the outstanding requests.\n",
        "\n",
        "There are five main categories namely power plant, indirect, civil works and FCRS, Drilling, and Site Fulfillment. As seen below, there are outstanding purchases that are assigned to H00 and \"DO NOT USE\" - these are staging assignments while an outstanding PR does not have a defined category yet. This is because the assignment is manually done."
      ]
    },
    {
      "cell_type": "code",
      "metadata": {
        "id": "sNzdnKxHT3LF",
        "colab_type": "code",
        "outputId": "0403f942-ad75-44c3-a562-1f5c3ea378ff",
        "colab": {
          "base_uri": "https://localhost:8080/",
          "height": 424
        }
      },
      "source": [
        "import pandas as pd\n",
        "import numpy as np\n",
        "from matplotlib import pyplot as plt\n",
        "df_out_purch.groupby('dim_category')['dim_category'].count().plot.bar()"
      ],
      "execution_count": 135,
      "outputs": [
        {
          "output_type": "execute_result",
          "data": {
            "text/plain": [
              "<matplotlib.axes._subplots.AxesSubplot at 0x7fb592c007d0>"
            ]
          },
          "metadata": {
            "tags": []
          },
          "execution_count": 135
        },
        {
          "output_type": "display_data",
          "data": {
            "image/png": "[encoded data removed]",
            "text/plain": [
              "<Figure size 432x288 with 1 Axes>"
            ]
          },
          "metadata": {
            "tags": []
          }
        }
      ]
    },
    {
      "cell_type": "markdown",
      "metadata": {
        "id": "fNhxRHUEVJiw",
        "colab_type": "text"
      },
      "source": [
        "With this, the first recommendation that could be automated is the **assigned category**. Automating this portion would allow the routing of purchase requests to be more efficient, especially to those categories with high influx volume of requests, specifically indirect category."
      ]
    },
    {
      "cell_type": "markdown",
      "metadata": {
        "id": "g9ye1G5CVxnC",
        "colab_type": "text"
      },
      "source": [
        "Before a purchase is done however, the **requested item should still be checked with the current inventory to**:\n",
        "1. Prevent bloating of inventory which would result in increased holding costs; and\n",
        "2. Frees up more time for buyers to focus on other requests, thereby increasing efficiency of the procurement process. \n",
        "\n",
        "This is also done manually by a dedicated inventory analyst."
      ]
    },
    {
      "cell_type": "markdown",
      "metadata": {
        "id": "yii7H1pD3kF4",
        "colab_type": "text"
      },
      "source": [
        "#Part II: Purchase Price Variances\n",
        "This section aims to explore variances of purchase prices from different vendors. Shown below are the top items which are most frequently bought - to see if there are significant differences when buying from different vendors"
      ]
    },
    {
      "cell_type": "code",
      "metadata": {
        "id": "rbQleoobQEpo",
        "colab_type": "code",
        "outputId": "450d8352-c9e2-4ae8-a7a0-872853fd5d46",
        "colab": {
          "base_uri": "https://localhost:8080/",
          "height": 118
        }
      },
      "source": [
        "df_spend2 = df_spend.loc[(df_spend['Year'] >= 2018) & (df_spend['PO Amount in PHP'] > 1) & (df_spend['Material'] > 0) & (df_spend['Order Unit'] != 'LOT') & (df_spend['Goods / Services'] != 'SERVICES')]\n",
        "\n",
        "#df_spend2['PO Amount in PHP'] = df_spend2['PO Amount in PHP'].str.replace(\",\", \"\")\n",
        "#df_spend2['PO Amount in PHP'] = df_spend2['PO Amount in PHP'].str.strip()\n",
        "#df_spend2['PO Amount in PHP'] = df_spend2['PO Amount in PHP'].str.replace(\"-\", \"0\")\n",
        "\n",
        "#df_spend2['Order Quantity'] = df_spend2['Order Quantity'].str.replace(\",\", \"\")\n",
        "#df_spend2['Order Quantity'] = df_spend2['Order Quantity'].str.strip()\n",
        "#df_spend2['Order Quantity'] = df_spend2['Order Quantity'].str.replace(\"-\", \"0\")\n",
        "\n",
        "df_spend2['Unit Price in PHP'] = pd.to_numeric(df_spend2['PO Amount in PHP']) / pd.to_numeric(df_spend2['Order Quantity'])\n",
        "df_purch_price = df_spend2.groupby(['Cleaned Short Text']).agg({'Unit Price in PHP': ['mean', 'median', 'max', 'min', 'count']}).reset_index()\n",
        "df_purch_price = df_purch_price.sort_values(('Unit Price in PHP','count'), ascending = False)"
      ],
      "execution_count": 136,
      "outputs": [
        {
          "output_type": "stream",
          "text": [
            "/usr/local/lib/python2.7/dist-packages/ipykernel_launcher.py:11: SettingWithCopyWarning: \n",
            "A value is trying to be set on a copy of a slice from a DataFrame.\n",
            "Try using .loc[row_indexer,col_indexer] = value instead\n",
            "\n",
            "See the caveats in the documentation: http://pandas.pydata.org/pandas-docs/stable/indexing.html#indexing-view-versus-copy\n",
            "  # This is added back by InteractiveShellApp.init_path()\n"
          ],
          "name": "stderr"
        }
      ]
    },
    {
      "cell_type": "markdown",
      "metadata": {
        "id": "xniIJqgJ5ERI",
        "colab_type": "text"
      },
      "source": [
        "As shown below - for a single item, it could have a wide range of unit price even considering that only purchases made within the year are included: e.g safety footwear has a max unit price of PHP17k, and min price of PHP303."
      ]
    },
    {
      "cell_type": "code",
      "metadata": {
        "id": "-n8PJQNnXoC2",
        "colab_type": "code",
        "outputId": "c8b6ad64-74d7-4d27-e3a0-2e6e5dfe5438",
        "colab": {
          "base_uri": "https://localhost:8080/",
          "height": 669
        }
      },
      "source": [
        "top10 = df_purch_price.head(20)\n",
        "top10"
      ],
      "execution_count": 137,
      "outputs": [
        {
          "output_type": "execute_result",
          "data": {
            "text/html": [
              "<div>\n",
              "<style scoped>\n",
              "    .dataframe tbody tr th:only-of-type {\n",
              "        vertical-align: middle;\n",
              "    }\n",
              "\n",
              "    .dataframe tbody tr th {\n",
              "        vertical-align: top;\n",
              "    }\n",
              "\n",
              "    .dataframe thead tr th {\n",
              "        text-align: left;\n",
              "    }\n",
              "</style>\n",
              "<table border=\"1\" class=\"dataframe\">\n",
              "  <thead>\n",
              "    <tr>\n",
              "      <th></th>\n",
              "      <th>Cleaned Short Text</th>\n",
              "      <th colspan=\"5\" halign=\"left\">Unit Price in PHP</th>\n",
              "    </tr>\n",
              "    <tr>\n",
              "      <th></th>\n",
              "      <th></th>\n",
              "      <th>mean</th>\n",
              "      <th>median</th>\n",
              "      <th>max</th>\n",
              "      <th>min</th>\n",
              "      <th>count</th>\n",
              "    </tr>\n",
              "  </thead>\n",
              "  <tbody>\n",
              "    <tr>\n",
              "      <th>1590</th>\n",
              "      <td>Drugs &amp; Pharmaceutical Products</td>\n",
              "      <td>233.517473</td>\n",
              "      <td>31.250</td>\n",
              "      <td>4500.00</td>\n",
              "      <td>0.310000</td>\n",
              "      <td>691</td>\n",
              "    </tr>\n",
              "    <tr>\n",
              "      <th>4974</th>\n",
              "      <td>Tools And General Machinery</td>\n",
              "      <td>88756.235383</td>\n",
              "      <td>6420.000</td>\n",
              "      <td>4628000.00</td>\n",
              "      <td>5.000000</td>\n",
              "      <td>600</td>\n",
              "    </tr>\n",
              "    <tr>\n",
              "      <th>4661</th>\n",
              "      <td>Structure/Bldg/Construction/Manufactcomp</td>\n",
              "      <td>2706.634379</td>\n",
              "      <td>230.000</td>\n",
              "      <td>265000.00</td>\n",
              "      <td>0.500000</td>\n",
              "      <td>570</td>\n",
              "    </tr>\n",
              "    <tr>\n",
              "      <th>2803</th>\n",
              "      <td>Laboratory Supplies And Fixtures</td>\n",
              "      <td>11841.287566</td>\n",
              "      <td>2593.000</td>\n",
              "      <td>234317.86</td>\n",
              "      <td>0.570000</td>\n",
              "      <td>486</td>\n",
              "    </tr>\n",
              "    <tr>\n",
              "      <th>4237</th>\n",
              "      <td>Safety Apparel</td>\n",
              "      <td>2208.830583</td>\n",
              "      <td>1064.000</td>\n",
              "      <td>109000.00</td>\n",
              "      <td>4.500000</td>\n",
              "      <td>412</td>\n",
              "    </tr>\n",
              "    <tr>\n",
              "      <th>2095</th>\n",
              "      <td>Fuel;Diesel;</td>\n",
              "      <td>39.480230</td>\n",
              "      <td>38.830</td>\n",
              "      <td>53.18</td>\n",
              "      <td>31.666300</td>\n",
              "      <td>356</td>\n",
              "    </tr>\n",
              "    <tr>\n",
              "      <th>2094</th>\n",
              "      <td>Fuel;Diesel</td>\n",
              "      <td>36.629300</td>\n",
              "      <td>36.090</td>\n",
              "      <td>49.11</td>\n",
              "      <td>31.540000</td>\n",
              "      <td>342</td>\n",
              "    </tr>\n",
              "    <tr>\n",
              "      <th>2978</th>\n",
              "      <td>Medical Eqpt &amp; Accs &amp; Supplies</td>\n",
              "      <td>1223.708192</td>\n",
              "      <td>56.700</td>\n",
              "      <td>109920.00</td>\n",
              "      <td>0.400000</td>\n",
              "      <td>341</td>\n",
              "    </tr>\n",
              "    <tr>\n",
              "      <th>2099</th>\n",
              "      <td>Furniture &amp; Furnishings</td>\n",
              "      <td>9098.212341</td>\n",
              "      <td>3600.000</td>\n",
              "      <td>141561.00</td>\n",
              "      <td>30.000000</td>\n",
              "      <td>275</td>\n",
              "    </tr>\n",
              "    <tr>\n",
              "      <th>3845</th>\n",
              "      <td>Printer &amp; Fax &amp; Photocopier Supplies</td>\n",
              "      <td>7255.017176</td>\n",
              "      <td>8546.790</td>\n",
              "      <td>17256.50</td>\n",
              "      <td>37.000000</td>\n",
              "      <td>255</td>\n",
              "    </tr>\n",
              "    <tr>\n",
              "      <th>4238</th>\n",
              "      <td>Safety Footwear</td>\n",
              "      <td>2911.278091</td>\n",
              "      <td>2125.630</td>\n",
              "      <td>17857.14</td>\n",
              "      <td>303.000000</td>\n",
              "      <td>241</td>\n",
              "    </tr>\n",
              "    <tr>\n",
              "      <th>3838</th>\n",
              "      <td>Prepared &amp; Preserved Foods</td>\n",
              "      <td>416.067759</td>\n",
              "      <td>29.910</td>\n",
              "      <td>2735.00</td>\n",
              "      <td>4.230092</td>\n",
              "      <td>230</td>\n",
              "    </tr>\n",
              "    <tr>\n",
              "      <th>1161</th>\n",
              "      <td>Cleaning And Janitorial Supplies</td>\n",
              "      <td>117.616670</td>\n",
              "      <td>74.450</td>\n",
              "      <td>650.00</td>\n",
              "      <td>7.140000</td>\n",
              "      <td>225</td>\n",
              "    </tr>\n",
              "    <tr>\n",
              "      <th>1476</th>\n",
              "      <td>Desk Supplies</td>\n",
              "      <td>271.099440</td>\n",
              "      <td>39.235</td>\n",
              "      <td>9594.00</td>\n",
              "      <td>0.500000</td>\n",
              "      <td>220</td>\n",
              "    </tr>\n",
              "    <tr>\n",
              "      <th>5600</th>\n",
              "      <td>Writing Instruments</td>\n",
              "      <td>56.254660</td>\n",
              "      <td>31.250</td>\n",
              "      <td>615.37</td>\n",
              "      <td>1.160000</td>\n",
              "      <td>219</td>\n",
              "    </tr>\n",
              "    <tr>\n",
              "      <th>1722</th>\n",
              "      <td>Electrical Eqpt And Components And Supp</td>\n",
              "      <td>135155.011984</td>\n",
              "      <td>889.810</td>\n",
              "      <td>15565200.00</td>\n",
              "      <td>14.000000</td>\n",
              "      <td>211</td>\n",
              "    </tr>\n",
              "    <tr>\n",
              "      <th>83</th>\n",
              "      <td>Apparel &amp; Luggage &amp; Personal Care Prod</td>\n",
              "      <td>3380.497450</td>\n",
              "      <td>300.000</td>\n",
              "      <td>491071.43</td>\n",
              "      <td>6.000000</td>\n",
              "      <td>202</td>\n",
              "    </tr>\n",
              "    <tr>\n",
              "      <th>1214</th>\n",
              "      <td>Computer Equipment &amp; Accessories</td>\n",
              "      <td>177867.407360</td>\n",
              "      <td>48791.480</td>\n",
              "      <td>1984146.41</td>\n",
              "      <td>71.430000</td>\n",
              "      <td>178</td>\n",
              "    </tr>\n",
              "    <tr>\n",
              "      <th>3849</th>\n",
              "      <td>Printing And Writing Paper</td>\n",
              "      <td>136.739353</td>\n",
              "      <td>13.390</td>\n",
              "      <td>2187.50</td>\n",
              "      <td>7.140000</td>\n",
              "      <td>161</td>\n",
              "    </tr>\n",
              "    <tr>\n",
              "      <th>1721</th>\n",
              "      <td>Electrical Controls And Accessories</td>\n",
              "      <td>54777.345067</td>\n",
              "      <td>21600.800</td>\n",
              "      <td>265215.60</td>\n",
              "      <td>641.725000</td>\n",
              "      <td>150</td>\n",
              "    </tr>\n",
              "  </tbody>\n",
              "</table>\n",
              "</div>"
            ],
            "text/plain": [
              "                            Cleaned Short Text  ... Unit Price in PHP\n",
              "                                                ...             count\n",
              "1590           Drugs & Pharmaceutical Products  ...               691\n",
              "4974               Tools And General Machinery  ...               600\n",
              "4661  Structure/Bldg/Construction/Manufactcomp  ...               570\n",
              "2803          Laboratory Supplies And Fixtures  ...               486\n",
              "4237                            Safety Apparel  ...               412\n",
              "2095                              Fuel;Diesel;  ...               356\n",
              "2094                               Fuel;Diesel  ...               342\n",
              "2978            Medical Eqpt & Accs & Supplies  ...               341\n",
              "2099                   Furniture & Furnishings  ...               275\n",
              "3845      Printer & Fax & Photocopier Supplies  ...               255\n",
              "4238                           Safety Footwear  ...               241\n",
              "3838                Prepared & Preserved Foods  ...               230\n",
              "1161          Cleaning And Janitorial Supplies  ...               225\n",
              "1476                             Desk Supplies  ...               220\n",
              "5600                       Writing Instruments  ...               219\n",
              "1722   Electrical Eqpt And Components And Supp  ...               211\n",
              "83      Apparel & Luggage & Personal Care Prod  ...               202\n",
              "1214          Computer Equipment & Accessories  ...               178\n",
              "3849                Printing And Writing Paper  ...               161\n",
              "1721       Electrical Controls And Accessories  ...               150\n",
              "\n",
              "[20 rows x 6 columns]"
            ]
          },
          "metadata": {
            "tags": []
          },
          "execution_count": 137
        }
      ]
    },
    {
      "cell_type": "code",
      "metadata": {
        "id": "lOc1WVXv-LUh",
        "colab_type": "code",
        "colab": {}
      },
      "source": [
        "df_purch_price_spec = df_spend2.loc[df_spend2['Cleaned Short Text'] == 'Safety Footwear']\n",
        "df_purch_price_spec_analysis = df_purch_price_spec.groupby(['Cleaned Short Text', 'Cleaned Vendor Name']).agg({'Unit Price in PHP': ['mean', 'median', 'max', 'min', 'count']}).reset_index()"
      ],
      "execution_count": 0,
      "outputs": []
    },
    {
      "cell_type": "markdown",
      "metadata": {
        "id": "_Uf47rbDCVsi",
        "colab_type": "text"
      },
      "source": [
        "Upon looking at the specific suppliers providing the same safety footwear, there is a large disparity depending on the vendor. This may be because of the material - but assuming that the item would serve the same purpose, usage and product life - there may be a need to identify the cheapest vendor."
      ]
    },
    {
      "cell_type": "code",
      "metadata": {
        "id": "c1-7Nggw_VvS",
        "colab_type": "code",
        "outputId": "97712173-5752-4a14-d16f-5ea281622054",
        "colab": {
          "base_uri": "https://localhost:8080/",
          "height": 402
        }
      },
      "source": [
        "df_purch_price_spec_analysis"
      ],
      "execution_count": 139,
      "outputs": [
        {
          "output_type": "execute_result",
          "data": {
            "text/html": [
              "<div>\n",
              "<style scoped>\n",
              "    .dataframe tbody tr th:only-of-type {\n",
              "        vertical-align: middle;\n",
              "    }\n",
              "\n",
              "    .dataframe tbody tr th {\n",
              "        vertical-align: top;\n",
              "    }\n",
              "\n",
              "    .dataframe thead tr th {\n",
              "        text-align: left;\n",
              "    }\n",
              "</style>\n",
              "<table border=\"1\" class=\"dataframe\">\n",
              "  <thead>\n",
              "    <tr>\n",
              "      <th></th>\n",
              "      <th>Cleaned Short Text</th>\n",
              "      <th>Cleaned Vendor Name</th>\n",
              "      <th colspan=\"5\" halign=\"left\">Unit Price in PHP</th>\n",
              "    </tr>\n",
              "    <tr>\n",
              "      <th></th>\n",
              "      <th></th>\n",
              "      <th></th>\n",
              "      <th>mean</th>\n",
              "      <th>median</th>\n",
              "      <th>max</th>\n",
              "      <th>min</th>\n",
              "      <th>count</th>\n",
              "    </tr>\n",
              "  </thead>\n",
              "  <tbody>\n",
              "    <tr>\n",
              "      <th>0</th>\n",
              "      <td>Safety Footwear</td>\n",
              "      <td>BASIC OCCUPATIONAL SAFETY SUPPLIES</td>\n",
              "      <td>5287.500000</td>\n",
              "      <td>4050.00</td>\n",
              "      <td>7762.50</td>\n",
              "      <td>4050.00</td>\n",
              "      <td>3</td>\n",
              "    </tr>\n",
              "    <tr>\n",
              "      <th>1</th>\n",
              "      <td>Safety Footwear</td>\n",
              "      <td>BASIC OCCUPATIONAL SAFETY SUPPLIES PHILS., INC.</td>\n",
              "      <td>2967.942157</td>\n",
              "      <td>3571.43</td>\n",
              "      <td>17857.14</td>\n",
              "      <td>500.00</td>\n",
              "      <td>102</td>\n",
              "    </tr>\n",
              "    <tr>\n",
              "      <th>2</th>\n",
              "      <td>Safety Footwear</td>\n",
              "      <td>Company BOSSAFETY INC</td>\n",
              "      <td>6048.000000</td>\n",
              "      <td>4050.00</td>\n",
              "      <td>10044.00</td>\n",
              "      <td>4050.00</td>\n",
              "      <td>6</td>\n",
              "    </tr>\n",
              "    <tr>\n",
              "      <th>3</th>\n",
              "      <td>Safety Footwear</td>\n",
              "      <td>DYNAMIC DEVELOPMENT CORP.</td>\n",
              "      <td>4180.000000</td>\n",
              "      <td>3995.00</td>\n",
              "      <td>4800.00</td>\n",
              "      <td>3300.00</td>\n",
              "      <td>11</td>\n",
              "    </tr>\n",
              "    <tr>\n",
              "      <th>4</th>\n",
              "      <td>Safety Footwear</td>\n",
              "      <td>FOOT SAFE PHILIPPINES, INC.</td>\n",
              "      <td>2125.630000</td>\n",
              "      <td>2125.63</td>\n",
              "      <td>2125.63</td>\n",
              "      <td>2125.63</td>\n",
              "      <td>63</td>\n",
              "    </tr>\n",
              "    <tr>\n",
              "      <th>5</th>\n",
              "      <td>Safety Footwear</td>\n",
              "      <td>LIBSALES INDUSTRIAL PARTS &amp; GENERAL MERCHANDISE</td>\n",
              "      <td>380.000000</td>\n",
              "      <td>380.00</td>\n",
              "      <td>380.00</td>\n",
              "      <td>380.00</td>\n",
              "      <td>2</td>\n",
              "    </tr>\n",
              "    <tr>\n",
              "      <th>6</th>\n",
              "      <td>Safety Footwear</td>\n",
              "      <td>ORMOC LIBERTY MARKETING INC.</td>\n",
              "      <td>5300.000000</td>\n",
              "      <td>5300.00</td>\n",
              "      <td>5300.00</td>\n",
              "      <td>5300.00</td>\n",
              "      <td>1</td>\n",
              "    </tr>\n",
              "    <tr>\n",
              "      <th>7</th>\n",
              "      <td>Safety Footwear</td>\n",
              "      <td>SAFEPOINT ENTERPRISES</td>\n",
              "      <td>6146.452917</td>\n",
              "      <td>6232.50</td>\n",
              "      <td>10350.00</td>\n",
              "      <td>342.00</td>\n",
              "      <td>24</td>\n",
              "    </tr>\n",
              "    <tr>\n",
              "      <th>8</th>\n",
              "      <td>Safety Footwear</td>\n",
              "      <td>TOP-RIGID INDL. SAFETY SUPPLY INC.</td>\n",
              "      <td>468.000000</td>\n",
              "      <td>468.00</td>\n",
              "      <td>468.00</td>\n",
              "      <td>468.00</td>\n",
              "      <td>3</td>\n",
              "    </tr>\n",
              "    <tr>\n",
              "      <th>9</th>\n",
              "      <td>Safety Footwear</td>\n",
              "      <td>TOP-RIGID INDL. SAFETY SUPPLY INC. INC.</td>\n",
              "      <td>459.035833</td>\n",
              "      <td>468.00</td>\n",
              "      <td>468.00</td>\n",
              "      <td>303.00</td>\n",
              "      <td>24</td>\n",
              "    </tr>\n",
              "    <tr>\n",
              "      <th>10</th>\n",
              "      <td>Safety Footwear</td>\n",
              "      <td>UNI-REAL TRADING CORP.</td>\n",
              "      <td>423.500000</td>\n",
              "      <td>423.50</td>\n",
              "      <td>423.50</td>\n",
              "      <td>423.50</td>\n",
              "      <td>2</td>\n",
              "    </tr>\n",
              "  </tbody>\n",
              "</table>\n",
              "</div>"
            ],
            "text/plain": [
              "   Cleaned Short Text  ... Unit Price in PHP\n",
              "                       ...             count\n",
              "0     Safety Footwear  ...                 3\n",
              "1     Safety Footwear  ...               102\n",
              "2     Safety Footwear  ...                 6\n",
              "3     Safety Footwear  ...                11\n",
              "4     Safety Footwear  ...                63\n",
              "5     Safety Footwear  ...                 2\n",
              "6     Safety Footwear  ...                 1\n",
              "7     Safety Footwear  ...                24\n",
              "8     Safety Footwear  ...                 3\n",
              "9     Safety Footwear  ...                24\n",
              "10    Safety Footwear  ...                 2\n",
              "\n",
              "[11 rows x 7 columns]"
            ]
          },
          "metadata": {
            "tags": []
          },
          "execution_count": 139
        }
      ]
    },
    {
      "cell_type": "code",
      "metadata": {
        "id": "Ch9cPnFOAfn5",
        "colab_type": "code",
        "colab": {}
      },
      "source": [
        "df_purch_price_spec = df_spend2.loc[df_spend2['Cleaned Short Text'] == 'Safety Footwear']\n",
        "df_purch_price_spec_analysis2 = df_purch_price_spec.groupby(['Cleaned Short Text', 'Plant']).agg({'Unit Price in PHP': ['mean', 'median', 'max', 'min', 'count']}).reset_index()"
      ],
      "execution_count": 0,
      "outputs": []
    },
    {
      "cell_type": "markdown",
      "metadata": {
        "id": "qpMeEgG-C4Rv",
        "colab_type": "text"
      },
      "source": [
        "Plant, also shows the same disparity pattern. This is because purchases before are decentralized, and so buying units from different plants have different strategies"
      ]
    },
    {
      "cell_type": "code",
      "metadata": {
        "id": "E-MChqkCCvtN",
        "colab_type": "code",
        "outputId": "809d8e76-18b0-434b-d5d3-1b38d43f191c",
        "colab": {
          "base_uri": "https://localhost:8080/",
          "height": 521
        }
      },
      "source": [
        "df_purch_price_spec_analysis2"
      ],
      "execution_count": 141,
      "outputs": [
        {
          "output_type": "execute_result",
          "data": {
            "text/html": [
              "<div>\n",
              "<style scoped>\n",
              "    .dataframe tbody tr th:only-of-type {\n",
              "        vertical-align: middle;\n",
              "    }\n",
              "\n",
              "    .dataframe tbody tr th {\n",
              "        vertical-align: top;\n",
              "    }\n",
              "\n",
              "    .dataframe thead tr th {\n",
              "        text-align: left;\n",
              "    }\n",
              "</style>\n",
              "<table border=\"1\" class=\"dataframe\">\n",
              "  <thead>\n",
              "    <tr>\n",
              "      <th></th>\n",
              "      <th>Cleaned Short Text</th>\n",
              "      <th>Plant</th>\n",
              "      <th colspan=\"5\" halign=\"left\">Unit Price in PHP</th>\n",
              "    </tr>\n",
              "    <tr>\n",
              "      <th></th>\n",
              "      <th></th>\n",
              "      <th></th>\n",
              "      <th>mean</th>\n",
              "      <th>median</th>\n",
              "      <th>max</th>\n",
              "      <th>min</th>\n",
              "      <th>count</th>\n",
              "    </tr>\n",
              "  </thead>\n",
              "  <tbody>\n",
              "    <tr>\n",
              "      <th>0</th>\n",
              "      <td>Safety Footwear</td>\n",
              "      <td>1003</td>\n",
              "      <td>6696.430000</td>\n",
              "      <td>6696.430</td>\n",
              "      <td>6696.43</td>\n",
              "      <td>6696.43</td>\n",
              "      <td>1</td>\n",
              "    </tr>\n",
              "    <tr>\n",
              "      <th>1</th>\n",
              "      <td>Safety Footwear</td>\n",
              "      <td>100A</td>\n",
              "      <td>4613.096667</td>\n",
              "      <td>3571.430</td>\n",
              "      <td>6696.43</td>\n",
              "      <td>3571.43</td>\n",
              "      <td>3</td>\n",
              "    </tr>\n",
              "    <tr>\n",
              "      <th>2</th>\n",
              "      <td>Safety Footwear</td>\n",
              "      <td>100D</td>\n",
              "      <td>7745.865556</td>\n",
              "      <td>8839.290</td>\n",
              "      <td>9900.00</td>\n",
              "      <td>423.50</td>\n",
              "      <td>9</td>\n",
              "    </tr>\n",
              "    <tr>\n",
              "      <th>3</th>\n",
              "      <td>Safety Footwear</td>\n",
              "      <td>100J</td>\n",
              "      <td>2309.325556</td>\n",
              "      <td>3571.430</td>\n",
              "      <td>8839.29</td>\n",
              "      <td>616.07</td>\n",
              "      <td>45</td>\n",
              "    </tr>\n",
              "    <tr>\n",
              "      <th>4</th>\n",
              "      <td>Safety Footwear</td>\n",
              "      <td>310B</td>\n",
              "      <td>2832.590000</td>\n",
              "      <td>3571.430</td>\n",
              "      <td>3571.43</td>\n",
              "      <td>616.07</td>\n",
              "      <td>20</td>\n",
              "    </tr>\n",
              "    <tr>\n",
              "      <th>5</th>\n",
              "      <td>Safety Footwear</td>\n",
              "      <td>320A</td>\n",
              "      <td>3571.430000</td>\n",
              "      <td>3571.430</td>\n",
              "      <td>3571.43</td>\n",
              "      <td>3571.43</td>\n",
              "      <td>2</td>\n",
              "    </tr>\n",
              "    <tr>\n",
              "      <th>6</th>\n",
              "      <td>Safety Footwear</td>\n",
              "      <td>B001</td>\n",
              "      <td>2093.750000</td>\n",
              "      <td>2093.750</td>\n",
              "      <td>3571.43</td>\n",
              "      <td>616.07</td>\n",
              "      <td>4</td>\n",
              "    </tr>\n",
              "    <tr>\n",
              "      <th>7</th>\n",
              "      <td>Safety Footwear</td>\n",
              "      <td>E001</td>\n",
              "      <td>2976.885556</td>\n",
              "      <td>2125.630</td>\n",
              "      <td>10350.00</td>\n",
              "      <td>303.00</td>\n",
              "      <td>27</td>\n",
              "    </tr>\n",
              "    <tr>\n",
              "      <th>8</th>\n",
              "      <td>Safety Footwear</td>\n",
              "      <td>E002</td>\n",
              "      <td>3960.500000</td>\n",
              "      <td>4050.000</td>\n",
              "      <td>7065.00</td>\n",
              "      <td>616.07</td>\n",
              "      <td>10</td>\n",
              "    </tr>\n",
              "    <tr>\n",
              "      <th>9</th>\n",
              "      <td>Safety Footwear</td>\n",
              "      <td>E003</td>\n",
              "      <td>2309.678966</td>\n",
              "      <td>2125.630</td>\n",
              "      <td>9900.00</td>\n",
              "      <td>380.00</td>\n",
              "      <td>29</td>\n",
              "    </tr>\n",
              "    <tr>\n",
              "      <th>10</th>\n",
              "      <td>Safety Footwear</td>\n",
              "      <td>E004</td>\n",
              "      <td>6791.795714</td>\n",
              "      <td>5500.000</td>\n",
              "      <td>17857.14</td>\n",
              "      <td>570.00</td>\n",
              "      <td>7</td>\n",
              "    </tr>\n",
              "    <tr>\n",
              "      <th>11</th>\n",
              "      <td>Safety Footwear</td>\n",
              "      <td>E005</td>\n",
              "      <td>2339.162857</td>\n",
              "      <td>2125.630</td>\n",
              "      <td>4800.00</td>\n",
              "      <td>468.00</td>\n",
              "      <td>56</td>\n",
              "    </tr>\n",
              "    <tr>\n",
              "      <th>12</th>\n",
              "      <td>Safety Footwear</td>\n",
              "      <td>E006</td>\n",
              "      <td>3340.035556</td>\n",
              "      <td>3200.000</td>\n",
              "      <td>10044.00</td>\n",
              "      <td>468.00</td>\n",
              "      <td>9</td>\n",
              "    </tr>\n",
              "    <tr>\n",
              "      <th>13</th>\n",
              "      <td>Safety Footwear</td>\n",
              "      <td>G001</td>\n",
              "      <td>2118.407500</td>\n",
              "      <td>1296.815</td>\n",
              "      <td>5500.00</td>\n",
              "      <td>380.00</td>\n",
              "      <td>4</td>\n",
              "    </tr>\n",
              "    <tr>\n",
              "      <th>14</th>\n",
              "      <td>Safety Footwear</td>\n",
              "      <td>G002</td>\n",
              "      <td>2083.264000</td>\n",
              "      <td>2125.630</td>\n",
              "      <td>3571.43</td>\n",
              "      <td>468.00</td>\n",
              "      <td>15</td>\n",
              "    </tr>\n",
              "  </tbody>\n",
              "</table>\n",
              "</div>"
            ],
            "text/plain": [
              "   Cleaned Short Text Plant Unit Price in PHP  ...                         \n",
              "                                         mean  ...       max      min count\n",
              "0     Safety Footwear  1003       6696.430000  ...   6696.43  6696.43     1\n",
              "1     Safety Footwear  100A       4613.096667  ...   6696.43  3571.43     3\n",
              "2     Safety Footwear  100D       7745.865556  ...   9900.00   423.50     9\n",
              "3     Safety Footwear  100J       2309.325556  ...   8839.29   616.07    45\n",
              "4     Safety Footwear  310B       2832.590000  ...   3571.43   616.07    20\n",
              "5     Safety Footwear  320A       3571.430000  ...   3571.43  3571.43     2\n",
              "6     Safety Footwear  B001       2093.750000  ...   3571.43   616.07     4\n",
              "7     Safety Footwear  E001       2976.885556  ...  10350.00   303.00    27\n",
              "8     Safety Footwear  E002       3960.500000  ...   7065.00   616.07    10\n",
              "9     Safety Footwear  E003       2309.678966  ...   9900.00   380.00    29\n",
              "10    Safety Footwear  E004       6791.795714  ...  17857.14   570.00     7\n",
              "11    Safety Footwear  E005       2339.162857  ...   4800.00   468.00    56\n",
              "12    Safety Footwear  E006       3340.035556  ...  10044.00   468.00     9\n",
              "13    Safety Footwear  G001       2118.407500  ...   5500.00   380.00     4\n",
              "14    Safety Footwear  G002       2083.264000  ...   3571.43   468.00    15\n",
              "\n",
              "[15 rows x 7 columns]"
            ]
          },
          "metadata": {
            "tags": []
          },
          "execution_count": 141
        }
      ]
    },
    {
      "cell_type": "markdown",
      "metadata": {
        "id": "O_cPiEZjE8Z6",
        "colab_type": "text"
      },
      "source": [
        "#Part III: Suggestion Feature for Categories\n",
        "\n",
        "When a purchase request is created, it is routed to different buying groups depending on the item itself. For example, all tissues, office supplies and items not used in production are assigned to Indirect Group. However, assigning the buying group is done manually.Thus, the aim of this section is to create a model on predicting the buying group to be assigned based on the item descriptions that are in the purchase request."
      ]
    },
    {
      "cell_type": "code",
      "metadata": {
        "id": "Ft-xAo5CFBzf",
        "colab_type": "code",
        "colab": {}
      },
      "source": [
        "df_spend_test = df_spend[['BCG Level 0', 'Cleaned Short Text']]"
      ],
      "execution_count": 0,
      "outputs": []
    },
    {
      "cell_type": "code",
      "metadata": {
        "id": "sfV70qmL0PkY",
        "colab_type": "code",
        "colab": {
          "base_uri": "https://localhost:8080/",
          "height": 50
        },
        "outputId": "6d6c90b2-84c7-48db-de61-259ab571bb37"
      },
      "source": [
        "df_spend_test['BCG Level 0'].unique()"
      ],
      "execution_count": 143,
      "outputs": [
        {
          "output_type": "execute_result",
          "data": {
            "text/plain": [
              "array([u'FCRS', u'Power Plant', u'Indirect', u'Drilling & Well services',\n",
              "       u'Construction & Civil works'], dtype=object)"
            ]
          },
          "metadata": {
            "tags": []
          },
          "execution_count": 143
        }
      ]
    },
    {
      "cell_type": "markdown",
      "metadata": {
        "id": "x4Dnwa6pQCn3",
        "colab_type": "text"
      },
      "source": [
        "Shown below is a sample of the text descriptions, and the assigned category. This is historical spend data that has a span of about 6 years."
      ]
    },
    {
      "cell_type": "code",
      "metadata": {
        "id": "R6NR5sCGP-fw",
        "colab_type": "code",
        "outputId": "77396943-e9c5-498b-b350-a6d6411e0c8f",
        "colab": {
          "base_uri": "https://localhost:8080/",
          "height": 195
        }
      },
      "source": [
        "df_spend_test.head()"
      ],
      "execution_count": 144,
      "outputs": [
        {
          "output_type": "execute_result",
          "data": {
            "text/html": [
              "<div>\n",
              "<style scoped>\n",
              "    .dataframe tbody tr th:only-of-type {\n",
              "        vertical-align: middle;\n",
              "    }\n",
              "\n",
              "    .dataframe tbody tr th {\n",
              "        vertical-align: top;\n",
              "    }\n",
              "\n",
              "    .dataframe thead th {\n",
              "        text-align: right;\n",
              "    }\n",
              "</style>\n",
              "<table border=\"1\" class=\"dataframe\">\n",
              "  <thead>\n",
              "    <tr style=\"text-align: right;\">\n",
              "      <th></th>\n",
              "      <th>BCG Level 0</th>\n",
              "      <th>Cleaned Short Text</th>\n",
              "    </tr>\n",
              "  </thead>\n",
              "  <tbody>\n",
              "    <tr>\n",
              "      <th>0</th>\n",
              "      <td>FCRS</td>\n",
              "      <td>Actuator; Hydraulic, For 20\" Butterfly V</td>\n",
              "    </tr>\n",
              "    <tr>\n",
              "      <th>1</th>\n",
              "      <td>FCRS</td>\n",
              "      <td>Actuator; Hydraulic, For 8\" Butterfly Va</td>\n",
              "    </tr>\n",
              "    <tr>\n",
              "      <th>2</th>\n",
              "      <td>Power Plant</td>\n",
              "      <td>Kit;Resolver Drive &amp; Pcb;Iq70F25A;Rotork</td>\n",
              "    </tr>\n",
              "    <tr>\n",
              "      <th>3</th>\n",
              "      <td>Power Plant</td>\n",
              "      <td>Kit;Repair;Toshiba Msv Actuator</td>\n",
              "    </tr>\n",
              "    <tr>\n",
              "      <th>4</th>\n",
              "      <td>Power Plant</td>\n",
              "      <td>Kit;Repair;36\" Control Valve Actuator;</td>\n",
              "    </tr>\n",
              "  </tbody>\n",
              "</table>\n",
              "</div>"
            ],
            "text/plain": [
              "   BCG Level 0                        Cleaned Short Text\n",
              "0         FCRS  Actuator; Hydraulic, For 20\" Butterfly V\n",
              "1         FCRS  Actuator; Hydraulic, For 8\" Butterfly Va\n",
              "2  Power Plant  Kit;Resolver Drive & Pcb;Iq70F25A;Rotork\n",
              "3  Power Plant           Kit;Repair;Toshiba Msv Actuator\n",
              "4  Power Plant    Kit;Repair;36\" Control Valve Actuator;"
            ]
          },
          "metadata": {
            "tags": []
          },
          "execution_count": 144
        }
      ]
    },
    {
      "cell_type": "markdown",
      "metadata": {
        "id": "n26ktjApQP1f",
        "colab_type": "text"
      },
      "source": [
        "Below shows the model itself - it makes use of multinomial naive bayes that is usually used in text classification problems."
      ]
    },
    {
      "cell_type": "code",
      "metadata": {
        "id": "-hA8qdo0dbIm",
        "colab_type": "code",
        "outputId": "7b71076a-d9bd-49f0-b9b1-3643f3f89ce9",
        "colab": {
          "base_uri": "https://localhost:8080/",
          "height": 195
        }
      },
      "source": [
        "import numpy as np\n",
        "from sklearn.naive_bayes import MultinomialNB\n",
        "from sklearn.feature_extraction.text import CountVectorizer\n",
        "import pandas as pd\n",
        "from collections import Counter\n",
        "from sklearn.model_selection import train_test_split\n",
        "from sklearn.feature_extraction.text import TfidfTransformer\n",
        "\n",
        "#count_vect = CountVectorizer()\n",
        "#x_train_counts = count_vect.fit_transform(df_spend_test['Cleaned Short Text'].values.astype('U'))\n",
        "#tfidf_transformer = TfidfTransformer()\n",
        "#x_train_tfidf = tfidf_transformer.fit_transform(x_train_counts)\n",
        "\n",
        "train_x, test_x, train_y, test_y = train_test_split(df_spend_test['Cleaned Short Text'], df_spend_test['BCG Level 0'], test_size=0.3)\n",
        "text_test_x = test_x,\n",
        "count_vect = CountVectorizer()\n",
        "tfidf_transformer = TfidfTransformer()\n",
        "\n",
        "def transform_text(column_x):\n",
        "  transformed_x = tfidf_transformer.fit_transform(count_vect.fit_transform(column_x.values.astype('U')))\n",
        "  return transformed_x\n",
        "\n",
        "def transform_text2(column_x): #since vectorizer and transformer has been fitted already\n",
        "  transformed_x = tfidf_transformer.transform(count_vect.transform(column_x.values.astype('U')))\n",
        "  return transformed_x\n",
        "\n",
        "train_x = transform_text(train_x)\n",
        "test_x = transform_text2(test_x)\n",
        "\n",
        "clf = MultinomialNB().fit(train_x, train_y)\n",
        "y_score = clf.predict(test_x)\n",
        "\n",
        "pred_y = clf.predict(test_x)\n",
        "\n",
        "results = pd.DataFrame({'Material Description': test_x, 'Actual': test_y, 'Predicted': pred_y.flatten()})  \n",
        "results.head()\n",
        "#text_test_x[0][0]"
      ],
      "execution_count": 145,
      "outputs": [
        {
          "output_type": "execute_result",
          "data": {
            "text/html": [
              "<div>\n",
              "<style scoped>\n",
              "    .dataframe tbody tr th:only-of-type {\n",
              "        vertical-align: middle;\n",
              "    }\n",
              "\n",
              "    .dataframe tbody tr th {\n",
              "        vertical-align: top;\n",
              "    }\n",
              "\n",
              "    .dataframe thead th {\n",
              "        text-align: right;\n",
              "    }\n",
              "</style>\n",
              "<table border=\"1\" class=\"dataframe\">\n",
              "  <thead>\n",
              "    <tr style=\"text-align: right;\">\n",
              "      <th></th>\n",
              "      <th>Actual</th>\n",
              "      <th>Material Description</th>\n",
              "      <th>Predicted</th>\n",
              "    </tr>\n",
              "  </thead>\n",
              "  <tbody>\n",
              "    <tr>\n",
              "      <th>140209</th>\n",
              "      <td>Indirect</td>\n",
              "      <td>(0, 19979)\\t0.5276162600900055\\n  (0, 14168)...</td>\n",
              "      <td>Indirect</td>\n",
              "    </tr>\n",
              "    <tr>\n",
              "      <th>114373</th>\n",
              "      <td>Power Plant</td>\n",
              "      <td>(0, 19979)\\t0.5276162600900055\\n  (0, 14168)...</td>\n",
              "      <td>Power Plant</td>\n",
              "    </tr>\n",
              "    <tr>\n",
              "      <th>182452</th>\n",
              "      <td>Indirect</td>\n",
              "      <td>(0, 19979)\\t0.5276162600900055\\n  (0, 14168)...</td>\n",
              "      <td>Indirect</td>\n",
              "    </tr>\n",
              "    <tr>\n",
              "      <th>161165</th>\n",
              "      <td>Indirect</td>\n",
              "      <td>(0, 19979)\\t0.5276162600900055\\n  (0, 14168)...</td>\n",
              "      <td>Indirect</td>\n",
              "    </tr>\n",
              "    <tr>\n",
              "      <th>53852</th>\n",
              "      <td>Construction &amp; Civil works</td>\n",
              "      <td>(0, 19979)\\t0.5276162600900055\\n  (0, 14168)...</td>\n",
              "      <td>Construction &amp; Civil works</td>\n",
              "    </tr>\n",
              "  </tbody>\n",
              "</table>\n",
              "</div>"
            ],
            "text/plain": [
              "                            Actual  ...                   Predicted\n",
              "140209                    Indirect  ...                    Indirect\n",
              "114373                 Power Plant  ...                 Power Plant\n",
              "182452                    Indirect  ...                    Indirect\n",
              "161165                    Indirect  ...                    Indirect\n",
              "53852   Construction & Civil works  ...  Construction & Civil works\n",
              "\n",
              "[5 rows x 3 columns]"
            ]
          },
          "metadata": {
            "tags": []
          },
          "execution_count": 145
        }
      ]
    },
    {
      "cell_type": "markdown",
      "metadata": {
        "id": "Dk4lYemVRDs4",
        "colab_type": "text"
      },
      "source": [
        "Using the model to the outstanding purchase requisitions:"
      ]
    },
    {
      "cell_type": "code",
      "metadata": {
        "id": "GeIKGiVs_Ywv",
        "colab_type": "code",
        "colab": {}
      },
      "source": [
        "y = clf.predict(transform_text2(df_out_purch['dim_po_material_shorttext']))\n",
        "outstanding_purch_predicted = pd.DataFrame({'PR Number': df_out_purch['id_pr_item'], 'Material Description': df_out_purch['dim_po_material_shorttext'], 'Predicted Category': y})"
      ],
      "execution_count": 0,
      "outputs": []
    },
    {
      "cell_type": "code",
      "metadata": {
        "id": "lRN5f826HIAE",
        "colab_type": "code",
        "outputId": "99fe04ed-05cc-4e7d-c249-ac176f6c2ba6",
        "colab": {
          "base_uri": "https://localhost:8080/",
          "height": 195
        }
      },
      "source": [
        "outstanding_purch_predicted.head()"
      ],
      "execution_count": 201,
      "outputs": [
        {
          "output_type": "execute_result",
          "data": {
            "text/html": [
              "<div>\n",
              "<style scoped>\n",
              "    .dataframe tbody tr th:only-of-type {\n",
              "        vertical-align: middle;\n",
              "    }\n",
              "\n",
              "    .dataframe tbody tr th {\n",
              "        vertical-align: top;\n",
              "    }\n",
              "\n",
              "    .dataframe thead th {\n",
              "        text-align: right;\n",
              "    }\n",
              "</style>\n",
              "<table border=\"1\" class=\"dataframe\">\n",
              "  <thead>\n",
              "    <tr style=\"text-align: right;\">\n",
              "      <th></th>\n",
              "      <th>Material Description</th>\n",
              "      <th>PR Number</th>\n",
              "      <th>Predicted Category</th>\n",
              "    </tr>\n",
              "  </thead>\n",
              "  <tbody>\n",
              "    <tr>\n",
              "      <th>0</th>\n",
              "      <td>VALVE;GLOBE;SS;1/2\";ASME B16.34, 300#;</td>\n",
              "      <td>1000048443_00010</td>\n",
              "      <td>FCRS</td>\n",
              "    </tr>\n",
              "    <tr>\n",
              "      <th>1</th>\n",
              "      <td>CORE;RADIATOR;38.5\"X38.5\"X5\";8ROWS</td>\n",
              "      <td>1000049895_00010</td>\n",
              "      <td>Indirect</td>\n",
              "    </tr>\n",
              "    <tr>\n",
              "      <th>2</th>\n",
              "      <td>PACKING;GARLOCK;SIZE: 1/4\"</td>\n",
              "      <td>1000050410_00010</td>\n",
              "      <td>Indirect</td>\n",
              "    </tr>\n",
              "    <tr>\n",
              "      <th>3</th>\n",
              "      <td>VALVE;SOLENOID;E321F32</td>\n",
              "      <td>1000050620_00010</td>\n",
              "      <td>FCRS</td>\n",
              "    </tr>\n",
              "    <tr>\n",
              "      <th>4</th>\n",
              "      <td>PACKING;STEM;NON-ASBESTOS;SQUARE BRAIDED</td>\n",
              "      <td>1000050728_00010</td>\n",
              "      <td>FCRS</td>\n",
              "    </tr>\n",
              "  </tbody>\n",
              "</table>\n",
              "</div>"
            ],
            "text/plain": [
              "                       Material Description  ... Predicted Category\n",
              "0    VALVE;GLOBE;SS;1/2\";ASME B16.34, 300#;  ...               FCRS\n",
              "1        CORE;RADIATOR;38.5\"X38.5\"X5\";8ROWS  ...           Indirect\n",
              "2                PACKING;GARLOCK;SIZE: 1/4\"  ...           Indirect\n",
              "3                    VALVE;SOLENOID;E321F32  ...               FCRS\n",
              "4  PACKING;STEM;NON-ASBESTOS;SQUARE BRAIDED  ...               FCRS\n",
              "\n",
              "[5 rows x 3 columns]"
            ]
          },
          "metadata": {
            "tags": []
          },
          "execution_count": 201
        }
      ]
    },
    {
      "cell_type": "code",
      "metadata": {
        "id": "gXr-hUneRxw2",
        "colab_type": "code",
        "colab": {}
      },
      "source": [
        "#clf.predict_proba(transform_text2(df_out_purch['dim_po_material_shorttext']))"
      ],
      "execution_count": 0,
      "outputs": []
    },
    {
      "cell_type": "markdown",
      "metadata": {
        "id": "tFZOFm0TAfrO",
        "colab_type": "text"
      },
      "source": [
        "The model is good at predicting those under Civil works, and indirect; but is not so good at predicting those under power plant, drilling, and fcrs. This is because there are many similar items that are used within these three categories. "
      ]
    },
    {
      "cell_type": "code",
      "metadata": {
        "id": "Ic_1VtC3yg_h",
        "colab_type": "code",
        "colab": {
          "base_uri": "https://localhost:8080/",
          "height": 218
        },
        "outputId": "f6e96c51-87e2-4b15-de44-d8d140468e22"
      },
      "source": [
        "from sklearn import metrics\n",
        "print (metrics.classification_report(test_y,clf.predict(test_x))) "
      ],
      "execution_count": 150,
      "outputs": [
        {
          "output_type": "stream",
          "text": [
            "                            precision    recall  f1-score   support\n",
            "\n",
            "Construction & Civil works       0.79      0.74      0.76      5674\n",
            "  Drilling & Well services       0.91      0.67      0.77      3131\n",
            "                      FCRS       0.78      0.80      0.79      8877\n",
            "                  Indirect       0.90      0.94      0.92     42789\n",
            "               Power Plant       0.67      0.58      0.62      6209\n",
            "\n",
            "                 micro avg       0.86      0.86      0.86     66680\n",
            "                 macro avg       0.81      0.74      0.77     66680\n",
            "              weighted avg       0.85      0.86      0.85     66680\n",
            "\n"
          ],
          "name": "stdout"
        }
      ]
    },
    {
      "cell_type": "markdown",
      "metadata": {
        "id": "6ySwAsqQbfxN",
        "colab_type": "text"
      },
      "source": [
        "#Part III: Creating a Network for Historical Bundles\n",
        "\n",
        "For the bundling suggestions to work - a network of historical bundles must first be built. This is based on what is present in every purchase order. Every historical purchase order represents a bundle, and weights are assigned depending on how often the related items appear in POs historically."
      ]
    },
    {
      "cell_type": "markdown",
      "metadata": {
        "id": "gdFILL-oSqdk",
        "colab_type": "text"
      },
      "source": [
        "Creating bundle networks may be done in a lot of ways. One is looking at those that were bundled before - looking at historical bundles. In this case, one purchase order may serve as one bundle, and from here on a network can be created."
      ]
    },
    {
      "cell_type": "code",
      "metadata": {
        "id": "qsx9psygm1t6",
        "colab_type": "code",
        "outputId": "b86f6641-afbd-4553-ec47-55351209b006",
        "colab": {
          "base_uri": "https://localhost:8080/",
          "height": 195
        }
      },
      "source": [
        "#creating a network of material codes\n",
        "import networkx as nx\n",
        "lst = []\n",
        "\n",
        "for i in range(len(df_spend)-1):\n",
        "  if df_spend['Purchasing Document'][i] == df_spend['Purchasing Document'][i+1]:\n",
        "    lst.append([df_spend['Material'][i], df_spend['Material'][i+1]])\n",
        "    i = i + 1\n",
        "  else:\n",
        "    i = i + 1\n",
        "df_network_material = pd.DataFrame(lst)\n",
        "df_network_material.rename(columns={0:'Item 1', 1:'Item 2'}, inplace=True)  \n",
        "df_network_material = df_network_material.dropna()\n",
        "df_network_material['Item 1'] = df_network_material['Item 1'].astype(int).astype(str)\n",
        "df_network_material['Item 2'] = df_network_material['Item 2'].astype(int).astype(str)\n",
        "df_network_material['combined'] = df_network_material['Item 1'] + df_network_material['Item 2']\n",
        "df_network_material2 = df_network_material.groupby(['Item 2','Item 1'])['combined'].count()\n",
        "df_network_material2 = df_network_material2.reset_index()\n",
        "df_network_material2 = df_network_material2.iloc[1:, :]\n",
        "df_network_material2.head()"
      ],
      "execution_count": 152,
      "outputs": [
        {
          "output_type": "execute_result",
          "data": {
            "text/html": [
              "<div>\n",
              "<style scoped>\n",
              "    .dataframe tbody tr th:only-of-type {\n",
              "        vertical-align: middle;\n",
              "    }\n",
              "\n",
              "    .dataframe tbody tr th {\n",
              "        vertical-align: top;\n",
              "    }\n",
              "\n",
              "    .dataframe thead th {\n",
              "        text-align: right;\n",
              "    }\n",
              "</style>\n",
              "<table border=\"1\" class=\"dataframe\">\n",
              "  <thead>\n",
              "    <tr style=\"text-align: right;\">\n",
              "      <th></th>\n",
              "      <th>Item 2</th>\n",
              "      <th>Item 1</th>\n",
              "      <th>combined</th>\n",
              "    </tr>\n",
              "  </thead>\n",
              "  <tbody>\n",
              "    <tr>\n",
              "      <th>1</th>\n",
              "      <td>100</td>\n",
              "      <td>100</td>\n",
              "      <td>5</td>\n",
              "    </tr>\n",
              "    <tr>\n",
              "      <th>2</th>\n",
              "      <td>1000</td>\n",
              "      <td>1226</td>\n",
              "      <td>1</td>\n",
              "    </tr>\n",
              "    <tr>\n",
              "      <th>3</th>\n",
              "      <td>1002</td>\n",
              "      <td>996</td>\n",
              "      <td>1</td>\n",
              "    </tr>\n",
              "    <tr>\n",
              "      <th>4</th>\n",
              "      <td>1009</td>\n",
              "      <td>1009</td>\n",
              "      <td>4</td>\n",
              "    </tr>\n",
              "    <tr>\n",
              "      <th>5</th>\n",
              "      <td>1009</td>\n",
              "      <td>1155</td>\n",
              "      <td>1</td>\n",
              "    </tr>\n",
              "  </tbody>\n",
              "</table>\n",
              "</div>"
            ],
            "text/plain": [
              "  Item 2 Item 1  combined\n",
              "1    100    100         5\n",
              "2   1000   1226         1\n",
              "3   1002    996         1\n",
              "4   1009   1009         4\n",
              "5   1009   1155         1"
            ]
          },
          "metadata": {
            "tags": []
          },
          "execution_count": 152
        }
      ]
    },
    {
      "cell_type": "markdown",
      "metadata": {
        "id": "KyiKh7Imb7yN",
        "colab_type": "text"
      },
      "source": [
        "Shown below is a visualization of the network of bundles - centered are those items which are always bought with other items, while those in the outside circle are usually bought individually. Only 500 material codes are sampled for visualization"
      ]
    },
    {
      "cell_type": "code",
      "metadata": {
        "id": "ekjFQB4pzvMo",
        "colab_type": "code",
        "outputId": "88fddaff-7402-4b34-a7af-0be2facd2e66",
        "colab": {
          "base_uri": "https://localhost:8080/",
          "height": 973
        }
      },
      "source": [
        "df_network_material4 = df_network_material2.head(500)\n",
        "G = nx.from_pandas_edgelist(df_network_material4, 'Item 2', 'Item 1',edge_attr = 'combined')\n",
        "# larger figure size\n",
        "plt.figure(3,figsize=(12, 12)) \n",
        "pos = nx.random_layout(G)\n",
        "nx.draw_networkx(G, node_color='b') \n",
        "plt.show()\n",
        "plt.axis('off')"
      ],
      "execution_count": 154,
      "outputs": [
        {
          "output_type": "display_data",
          "data": {
            "image/png": "[encoded data removed]",
            "text/plain": [
              "<Figure size 864x864 with 1 Axes>"
            ]
          },
          "metadata": {
            "tags": []
          }
        },
        {
          "output_type": "execute_result",
          "data": {
            "text/plain": [
              "(0.0, 1.0, 0.0, 1.0)"
            ]
          },
          "metadata": {
            "tags": []
          },
          "execution_count": 154
        },
        {
          "output_type": "display_data",
          "data": {
            "image/png": "[encoded data removed]",
            "text/plain": [
              "<Figure size 432x288 with 1 Axes>"
            ]
          },
          "metadata": {
            "tags": []
          }
        }
      ]
    },
    {
      "cell_type": "markdown",
      "metadata": {
        "id": "6ShWA03TRJ71",
        "colab_type": "text"
      },
      "source": [
        "Below looks at the frequency of how each material code is bundled with another. For example - mat code 110004 is bundled 2 times with another mat code during the course of 6 years. This may mean that either the item is not bought frequently, or is bought individually."
      ]
    },
    {
      "cell_type": "code",
      "metadata": {
        "id": "bh4EOiDLJ_6n",
        "colab_type": "code",
        "outputId": "abb3d4a6-de14-4ac1-a5cd-659b0c2e43a4",
        "colab": {
          "base_uri": "https://localhost:8080/",
          "height": 54
        }
      },
      "source": [
        "bundle_counts = G.degree()\n",
        "bundle_counts"
      ],
      "execution_count": 155,
      "outputs": [
        {
          "output_type": "execute_result",
          "data": {
            "text/plain": [
              "DegreeView({'108622': 3, '19714': 1, '10451': 1, '10450': 1, '108201': 2, '11545': 1, '6952': 1, '10514': 3, '109110': 1, '106074': 4, '106075': 4, '109114': 2, '106073': 7, '109053': 2, '10897': 1, '109054': 2, '109056': 2, '10580': 1, '102114': 1, '2914': 1, '73262': 1, '106488': 2, '3333': 1, '10202': 1, '3335': 1, '10201': 1, '121936': 1, '1066': 2, '84236': 1, '10809': 1, '10804': 2, '10800': 2, '102180': 1, '104543': 2, '1080': 2, '104548': 2, '121891': 1, '106564': 2, '108575': 1, '106561': 1, '108577': 2, '20211': 1, '105762': 1, '104558': 2, '105764': 3, '17318': 1, '79047': 1, '1017': 1, '2264': 1, '8731': 1, '10709': 2, '10335': 2, '4194': 1, '104719': 2, '109112': 1, '109': 2, '108377': 4, '103': 3, '100': 2, '122506': 1, '104': 3, '10638': 2, '10634': 1, '10632': 2, '10630': 3, '105534': 1, '105535': 2, '10147': 2, '114133': 1, '105435': 2, '105433': 2, '10385': 1, '109157': 1, '10799': 2, '10794': 1, '101721': 3, '106079': 1, '109159': 3, '10793': 2, '9641': 1, '105541': 1, '3899': 1, '105546': 2, '105545': 5, '15866': 1, '10242': 2, '10241': 2, '10245': 2, '10842': 10, '10843': 19, '10844': 13, '10845': 8, '10849': 2, '83579': 1, '82496': 1, '9598': 2, '84404': 1, '84406': 1, '41124': 1, '51058': 2, '21751': 1, '35081': 1, '996': 1, '16195': 1, '1052': 4, '3349': 1, '79761': 1, '3341': 1, '84471': 1, '84472': 2, '84474': 1, '10900': 2, '1009': 3, '20702': 1, '106080': 3, '106086': 1, '106085': 3, '106084': 6, '105754': 2, '103151': 3, '83724': 2, '85273': 1, '107567': 2, '107566': 2, '107565': 2, '107564': 2, '107563': 2, '107562': 2, '107561': 2, '105572': 1, '105573': 1, '107569': 2, '107568': 2, '10343': 5, '10342': 4, '10693': 3, '10345': 2, '108348': 1, '84019': 1, '6321': 1, '12277': 1, '10526': 2, '104807': 3, '11839': 1, '101713': 1, '10886': 1, '10887': 2, '101716': 5, '101717': 2, '101715': 2, '101651': 3, '10447': 1, '117661': 1, '101656': 2, '109107': 1, '109102': 1, '10592': 3, '103445': 2, '107383': 2, '107382': 2, '108041': 2, '108040': 2, '103132': 2, '84443': 1, '84447': 1, '84529': 1, '6144': 1, '10239': 2, '108384': 3, '106491': 3, '10613': 1, '10879': 2, '84202': 1, '10871': 3, '10874': 3, '104270': 1, '108545': 2, '108546': 1, '108547': 2, '108541': 1, '108543': 1, '104554': 1, '108548': 2, '108549': 2, '3155': 1, '106478': 1, '106577': 1, '105013': 2, '87151': 1, '105018': 2, '10802': 2, '10903': 1, '46403': 1, '1002': 1, '1000': 1, '1226': 1, '10307': 2, '10304': 2, '8110': 1, '106505': 1, '10629': 1, '81827': 1, '10620': 1, '114981': 1, '10625': 2, '10626': 5, '10627': 1, '105524': 4, '105523': 1, '110502': 1, '105529': 1, '10391': 1, '10622': 5, '107550': 2, '51039': 1, '10495': 2, '10494': 2, '10493': 1, '10719': 3, '10491': 2, '10471': 3, '10473': 1, '101668': 3, '20462': 1, '10478': 5, '496': 1, '108574': 1, '8925': 1, '326': 1, '9891': 1, '107241': 5, '33532': 1, '84410': 1, '108038': 1, '108039': 5, '3353': 1, '82569': 1, '102165': 5, '1769': 1, '102162': 3, '102163': 4, '84487': 1, '104566': 2, '104565': 4, '46333': 1, '106549': 1, '105747': 2, '103145': 3, '105748': 2, '2249': 1, '109187': 2, '105568': 1, '105642': 1, '105643': 2, '105648': 1, '105560': 2, '105563': 1, '105567': 3, '105566': 2, '9825': 1, '52542': 1, '52541': 1, '107301': 15, '107262': 4, '108358': 5, '108351': 11, '102914': 3, '108353': 1, '108352': 1, '106490': 4, '10610': 3, '106492': 2, '10615': 2, '10614': 2, '10617': 1, '10616': 1, '125175': 1, '9579': 1, '10753': 2, '10754': 2, '10755': 2, '101810': 1, '101813': 3, '14052': 1, '10341': 7, '107589': 1, '107588': 2, '13991': 2, '13998': 1, '107585': 2, '107587': 2, '107586': 2, '105486': 2, '51040': 1, '124597': 1, '103301': 2, '10540': 2, '9001': 1, '10224': 1, '10225': 1, '10222': 6, '10223': 4, '10492': 1, '10868': 2, '104265': 1, '51212': 1, '10867': 3, '108553': 1, '108552': 2, '108551': 2, '108550': 4, '104521': 1, '103101': 2, '39541': 1, '103106': 2, '108412': 2, '108411': 2, '105020': 1, '47809': 1, '730': 1, '120410': 1, '1033': 1, '1034': 1, '10648': 2, '10640': 3, '46369': 1, '108398': 5, '108521': 13, '108394': 3, '108397': 1, '108391': 4, '108390': 1, '108393': 1, '106511': 4, '72847': 2, '107549': 2, '107548': 2, '107545': 2, '107544': 2, '107547': 2, '107546': 2, '107541': 1, '10360': 1, '107543': 2, '107542': 2, '108321': 2, '108323': 8, '108329': 5, '1155': 1, '7779': 1, '104862': 1, '109186': 5, '121778': 1, '10466': 2, '10467': 7, '10464': 1, '10463': 8, '122014': 1, '10468': 1, '103197': 2, '8917': 2, '8919': 1, '9888': 1, '102107': 5, '102104': 2, '102102': 4, '102103': 2, '4036': 1, '108181': 2, '102109': 4, '3321': 1, '46100': 1, '10181': 1, '10180': 3, '10183': 1, '10888': 1, '105101': 1, '105106': 1, '84557': 1, '107806': 1, '107807': 1, '102177': 3, '102176': 2, '102175': 5, '102174': 3, '104298': 1, '104299': 3, '84559': 1, '84558': 2, '46329': 2, '104570': 2, '67301': 1, '108568': 1, '108569': 2, '102917': 2, '108597': 1, '82507': 1, '108595': 2, '75786': 1, '108592': 2, '108591': 1, '10321': 4, '10323': 3, '10736': 2, '101897': 1, '10735': 1, '46557': 2, '110': 1, '120849': 1, '50990': 1, '108596': 1, '84034': 1, '102925': 3, '84036': 1, '10600': 2, '106489': 2, '72872': 1, '106487': 5, '108593': 1, '106485': 3, '106484': 2, '106480': 2, '101825': 2, '84298': 1, '11357': 1, '51059': 1, '13982': 3, '13983': 1, '105556': 2, '105557': 5, '105552': 1, '105490': 2, '102021': 2, '10378': 1, '10258': 4, '10554': 2, '10251': 2, '10250': 4, '10253': 2, '10854': 1, '46419': 3, '121657': 1, '24616': 1, '108409': 2, '108401': 2, '42419': 1, '108407': 10, '3377': 1, '10920': 2, '82541': 1, '101692': 2, '19580': 2, '106095': 2, '106096': 2, '76241': 1, '106090': 1, '10675': 2, '67984': 1, '103288': 3, '50939': 1, '105681': 2, '2503': 1, '10179': 2, '101861': 2, '10172': 2, '10173': 3, '10174': 1, '109207': 2, '101909': 3, '107570': 2, '10641': 2, '10877': 12, '103314': 2, '12412': 2, '10772': 2, '113044': 1, '105263': 3, '103090': 2})"
            ]
          },
          "metadata": {
            "tags": []
          },
          "execution_count": 155
        }
      ]
    },
    {
      "cell_type": "markdown",
      "metadata": {
        "id": "scSMHMYD0i-N",
        "colab_type": "text"
      },
      "source": [
        "With the network created, prediction of bundles is based on links that could be formed for each pair of material codes. One way to assess linkage of pairs of matcodes is through the preferntial attachment process. It measures the degree of linkage based on historical record of bundled pair of material goods. This process follow the power law, wherein those with large degrees (or were bundled the most based from historical data) are more potent to be bundled again."
      ]
    },
    {
      "cell_type": "code",
      "metadata": {
        "id": "eN0ryDKQSOpZ",
        "colab_type": "code",
        "colab": {}
      },
      "source": [
        "def nonedges(G,u):  #a generator with (u,v) for every non neighbor v\n",
        "    for v in nx.non_neighbors(G, u):\n",
        "        yield (u, v)\n",
        "        \n",
        "import heapq\n",
        "\n",
        "#preferential attachment\n",
        "for u in G.nodes():# you may want to check that there will be at least 10 choices.\n",
        "    preds = nx.preferential_attachment(G,nonedges(G,u))\n",
        "    \n",
        "    \n",
        "#redefined functions in networkx to return 0 when a node is not present in the network\n",
        "def _apply_prediction2(G, func, ebunch=None):\n",
        "    if ebunch is None:\n",
        "        ebunch = nx.non_edges(G)\n",
        "    return ((u, v, func(u, v)) for u, v in ebunch)\n",
        "\n",
        "def preferential_attachment2(G, ebunch=None):\n",
        "    def predict(u, v):\n",
        "        \n",
        "        if type(G.degree(u)) == int:\n",
        "          degree_u = G.degree(u)\n",
        "        else:\n",
        "          degree_u = 0\n",
        "          \n",
        "        if type(G.degree(v)) == int:\n",
        "          degree_v = G.degree(v)\n",
        "        else:\n",
        "          degree_v = 0\n",
        "          \n",
        "        return degree_u * degree_v\n",
        "    return _apply_prediction2(G, predict, ebunch)"
      ],
      "execution_count": 0,
      "outputs": []
    },
    {
      "cell_type": "markdown",
      "metadata": {
        "id": "8WfVlizs-3NK",
        "colab_type": "text"
      },
      "source": [
        "Below are just dataframe transforms, and application of the scores from the preferential attachment process. Showing all material code pairs with more than 1 degree of linkage, the recommended list of all PRs to be bundled are also listed."
      ]
    },
    {
      "cell_type": "code",
      "metadata": {
        "id": "1eN3Skz-_Ov0",
        "colab_type": "code",
        "colab": {
          "base_uri": "https://localhost:8080/",
          "height": 225
        },
        "outputId": "364019c0-07c7-4936-8844-d777bd60d9fd"
      },
      "source": [
        "lst2 = []\n",
        "df_matcode_outpurch = df_out_purch\n",
        "df_matcode_outpurch = df_matcode_outpurch.dropna()\n",
        "df_matcode_outpurch = df_matcode_outpurch.reset_index()\n",
        "for i in range(len(df_matcode_outpurch)):\n",
        "  for j in range(len(df_matcode_outpurch)):\n",
        "    if df_matcode_outpurch['dim_po_material_code'][i] != df_matcode_outpurch['dim_po_material_code'][j]:\n",
        "      lst2.append([df_matcode_outpurch['dim_po_material_code'][i], df_matcode_outpurch['dim_po_material_code'][j], df_matcode_outpurch['id_pr_item'][i], df_matcode_outpurch['id_pr_item'][j]])\n",
        "df_network_outstanding = pd.DataFrame(lst2)\n",
        "df_network_outstanding.rename(columns={0:'Item 1', 1:'Item 2', 2:'PR Number 1', 3: 'PR Number 2'}, inplace=True)  \n",
        "df_network_outstanding['Item 1'] = df_network_outstanding['Item 1'].astype(int).astype(str)\n",
        "df_network_outstanding['Item 2'] = df_network_outstanding['Item 2'].astype(int).astype(str)\n",
        "\n",
        "subset = df_network_outstanding[['Item 1', 'Item 2']]\n",
        "list2 = [tuple(x) for x in subset.values]\n",
        "predict_list = []\n",
        "prediction = preferential_attachment2(G, list2) #sample iterating over 2 mat codes\n",
        "for u, v, p in prediction:\n",
        "  predict_list.append(p)\n",
        "df_network_outstanding['link_predict'] = predict_list\n",
        "\n",
        "df_unique_mat_link = df_network_outstanding.drop_duplicates(['Item 1', 'Item 2'])\n",
        "df_unique_mat_link = df_unique_mat_link.loc[df_unique_mat_link['link_predict'] > 0]\n",
        "\n",
        "bundle_list = df_unique_mat_link.groupby('PR Number 1').agg({'PR Number 2' : lambda x: ', '.join(x)})\n",
        "bundle_list.reset_index()"
      ],
      "execution_count": 199,
      "outputs": [
        {
          "output_type": "execute_result",
          "data": {
            "text/html": [
              "<div>\n",
              "<style scoped>\n",
              "    .dataframe tbody tr th:only-of-type {\n",
              "        vertical-align: middle;\n",
              "    }\n",
              "\n",
              "    .dataframe tbody tr th {\n",
              "        vertical-align: top;\n",
              "    }\n",
              "\n",
              "    .dataframe thead th {\n",
              "        text-align: right;\n",
              "    }\n",
              "</style>\n",
              "<table border=\"1\" class=\"dataframe\">\n",
              "  <thead>\n",
              "    <tr style=\"text-align: right;\">\n",
              "      <th></th>\n",
              "      <th>PR Number 1</th>\n",
              "      <th>PR Number 2</th>\n",
              "    </tr>\n",
              "  </thead>\n",
              "  <tbody>\n",
              "    <tr>\n",
              "      <th>0</th>\n",
              "      <td>1000057294_00010</td>\n",
              "      <td>4000064900_00010, 4000064874_00190, 4000064826...</td>\n",
              "    </tr>\n",
              "    <tr>\n",
              "      <th>1</th>\n",
              "      <td>4000063822_00010</td>\n",
              "      <td>4000064900_00010, 1000057294_00010, 4000064874...</td>\n",
              "    </tr>\n",
              "    <tr>\n",
              "      <th>2</th>\n",
              "      <td>4000064614_00010</td>\n",
              "      <td>4000064900_00010, 1000057294_00010, 4000064874...</td>\n",
              "    </tr>\n",
              "    <tr>\n",
              "      <th>3</th>\n",
              "      <td>4000064826_00100</td>\n",
              "      <td>4000064900_00010, 1000057294_00010, 4000064874...</td>\n",
              "    </tr>\n",
              "    <tr>\n",
              "      <th>4</th>\n",
              "      <td>4000064874_00190</td>\n",
              "      <td>4000064900_00010, 1000057294_00010, 4000064826...</td>\n",
              "    </tr>\n",
              "    <tr>\n",
              "      <th>5</th>\n",
              "      <td>4000064900_00010</td>\n",
              "      <td>1000057294_00010, 4000064874_00190, 4000064826...</td>\n",
              "    </tr>\n",
              "  </tbody>\n",
              "</table>\n",
              "</div>"
            ],
            "text/plain": [
              "        PR Number 1                                        PR Number 2\n",
              "0  1000057294_00010  4000064900_00010, 4000064874_00190, 4000064826...\n",
              "1  4000063822_00010  4000064900_00010, 1000057294_00010, 4000064874...\n",
              "2  4000064614_00010  4000064900_00010, 1000057294_00010, 4000064874...\n",
              "3  4000064826_00100  4000064900_00010, 1000057294_00010, 4000064874...\n",
              "4  4000064874_00190  4000064900_00010, 1000057294_00010, 4000064826...\n",
              "5  4000064900_00010  1000057294_00010, 4000064874_00190, 4000064826..."
            ]
          },
          "metadata": {
            "tags": []
          },
          "execution_count": 199
        }
      ]
    },
    {
      "cell_type": "code",
      "metadata": {
        "id": "63De5_MA_wRJ",
        "colab_type": "code",
        "colab": {}
      },
      "source": [
        "#creating a network of material descriptions\n",
        "lst = []\n",
        "\n",
        "for i in range(len(df_spend)-1):\n",
        "  if df_spend['Purchasing Document'][i] == df_spend['Purchasing Document'][i+1]:\n",
        "    lst.append([df_spend['Cleaned Short Text'][i], df_spend['Cleaned Short Text'][i+1]])\n",
        "    i = i + 1\n",
        "  else:\n",
        "    i = i + 1\n",
        "df_network = pd.DataFrame(lst)\n",
        "df_network.rename(columns={0:'Item 1', 1:'Item 2'}, inplace=True)  "
      ],
      "execution_count": 0,
      "outputs": []
    },
    {
      "cell_type": "markdown",
      "metadata": {
        "id": "1USylcvkDOvu",
        "colab_type": "text"
      },
      "source": [
        "# Part V: Creating Network based on Business Theory - Delivery dates, and Suppliers"
      ]
    },
    {
      "cell_type": "markdown",
      "metadata": {
        "id": "OOvxmagkDYsj",
        "colab_type": "text"
      },
      "source": [
        "In business theory, bundles are done based on the proximity of delivery dates, and when a same supplier can deliver the good/service. Thus, there is also a wide opportunity to expand the current network bundle to be more intuitive. In this case, we will try to create a unique identifier for all items that can be provided by one supplier, and with delivery dates close to each other - an area of 30 days."
      ]
    },
    {
      "cell_type": "code",
      "metadata": {
        "id": "bNEfZ_Ls__JO",
        "colab_type": "code",
        "colab": {}
      },
      "source": [
        ""
      ],
      "execution_count": 0,
      "outputs": []
    }
  ]
}